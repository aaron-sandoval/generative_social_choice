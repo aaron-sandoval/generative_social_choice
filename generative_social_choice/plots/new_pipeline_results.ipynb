{
 "cells": [
  {
   "cell_type": "markdown",
   "metadata": {},
   "source": [
    "# Setup\n",
    "## Imports"
   ]
  },
  {
   "cell_type": "code",
   "execution_count": null,
   "metadata": {},
   "outputs": [],
   "source": [
    "%load_ext autoreload\n",
    "%autoreload 2\n"
   ]
  },
  {
   "cell_type": "code",
   "execution_count": null,
   "metadata": {},
   "outputs": [],
   "source": [
    "import json\n",
    "import pandas as pd\n",
    "import numpy as np\n",
    "\n",
    "from generative_social_choice.utils.postprocessing import (\n",
    "    plot_sorted_utility_distributions,\n",
    "    scalar_utility_metrics,\n",
    "    plot_candidate_distribution_stacked,\n",
    "    \n",
    ")\n"
   ]
  },
  {
   "cell_type": "markdown",
   "metadata": {},
   "source": [
    "## Load data"
   ]
  },
  {
   "cell_type": "code",
   "execution_count": null,
   "metadata": {},
   "outputs": [],
   "source": [
    "from generative_social_choice.utils.helper_functions import get_results_paths\n",
    "from generative_social_choice.utils.postprocessing import plot_sorted_utility_CIs\n",
    "\n",
    "\n",
    "def get_results(labelling_model: str, run_id: str, embedding_type: str = \"llm\"):\n",
    "    result_paths = get_results_paths(labelling_model=labelling_model, baseline=False,  embedding_type=embedding_type, run_id=run_id)\n",
    "\n",
    "    algo_assignment_result_dir = result_paths[\"assignments\"]\n",
    "    algo_assignment_files = {\n",
    "        path.stem: path for path in algo_assignment_result_dir.glob(\"*.json\")\n",
    "    }\n",
    "\n",
    "    algo_assignments = pd.DataFrame(columns=list(algo_assignment_files.keys())) #, index=baseline_assignments.index)\n",
    "    utilities = pd.DataFrame(columns=list(algo_assignment_files.keys()))\n",
    "\n",
    "    for algo_name, file_path in algo_assignment_files.items():\n",
    "        with open(file_path, \"r\") as f:\n",
    "            algo_assignment_data = (json.load(f))\n",
    "            algo_utilities = pd.Series(algo_assignment_data['utilities'], index=algo_assignment_data['agent_ids'])\n",
    "            utilities[algo_name] = algo_utilities\n",
    "            cur_algo_assignments = pd.Series(algo_assignment_data['assignments'], index=algo_assignment_data['agent_ids'])\n",
    "            algo_assignments[algo_name] = cur_algo_assignments\n",
    "\n",
    "\n",
    "    #algo_assignments.head()\n",
    "    #utilities.head()\n",
    "    return utilities, algo_assignments\n",
    "\n",
    "\n",
    "EMBEDDING_TYPE = \"llm\"\n",
    "LABELLING_MODEL = \"4o-mini\"\n",
    "RUN_IDS = [0, 1, 2, 3, 4]  # List of run IDs to analyze\n",
    "METHOD = \"exact\"\n",
    "\n",
    "# Collect metrics for all runs\n",
    "all_metrics = []\n",
    "all_algo_assignments = []\n",
    "all_utilities = []\n",
    "for run_id in RUN_IDS:\n",
    "    utilities, algo_assignments = get_results(labelling_model=LABELLING_MODEL, run_id=run_id, embedding_type=EMBEDDING_TYPE)\n",
    "    metrics = scalar_utility_metrics(utilities)\n",
    "    all_metrics.append(metrics.loc[METHOD])\n",
    "    all_algo_assignments.append(algo_assignments)\n",
    "    all_utilities.append(utilities)\n",
    "\n",
    "# Convert to DataFrame for easier analysis\n",
    "metrics_df = pd.DataFrame(all_metrics)\n",
    "\n",
    "# Calculate mean and 95% confidence intervals\n",
    "mean_metrics = metrics_df.mean()\n",
    "std_metrics = metrics_df.std()\n",
    "ci_95 = 1.96 * std_metrics / np.sqrt(len(RUN_IDS))\n",
    "\n",
    "# Create summary DataFrame with mean and confidence intervals\n",
    "summary = pd.DataFrame({\n",
    "    'Mean': mean_metrics,\n",
    "    '95% CI Lower': mean_metrics - ci_95,\n",
    "    '95% CI Upper': mean_metrics + ci_95\n",
    "})\n",
    "\n",
    "# Combine utilities for the selected method across all runs with MultiIndex columns\n",
    "utilities_for_CI = pd.DataFrame({\n",
    "    (METHOD, run_id): all_utilities[i][METHOD]\n",
    "    for i, run_id in enumerate(RUN_IDS)\n",
    "})\n",
    "utilities_for_CI.columns = pd.MultiIndex.from_tuples(utilities_for_CI.columns)\n",
    "\n",
    "# Now plot with CIs\n",
    "plot_sorted_utility_CIs(utilities_for_CI)\n",
    "\n",
    "summary\n"
   ]
  },
  {
   "cell_type": "markdown",
   "metadata": {},
   "source": [
    "### Plots"
   ]
  },
  {
   "cell_type": "code",
   "execution_count": null,
   "metadata": {},
   "outputs": [],
   "source": [
    "fig = plot_sorted_utility_distributions(all_utilities[0])"
   ]
  },
  {
   "cell_type": "code",
   "execution_count": null,
   "metadata": {},
   "outputs": [],
   "source": [
    "fig = plot_candidate_distribution_stacked(all_algo_assignments[0])"
   ]
  }
 ],
 "metadata": {
  "kernelspec": {
   "display_name": "venv",
   "language": "python",
   "name": "python3"
  },
  "language_info": {
   "codemirror_mode": {
    "name": "ipython",
    "version": 3
   },
   "file_extension": ".py",
   "mimetype": "text/x-python",
   "name": "python",
   "nbconvert_exporter": "python",
   "pygments_lexer": "ipython3",
   "version": "3.12.8"
  }
 },
 "nbformat": 4,
 "nbformat_minor": 4
}
