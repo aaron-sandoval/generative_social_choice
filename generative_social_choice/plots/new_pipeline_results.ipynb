{
 "cells": [
  {
   "cell_type": "markdown",
   "metadata": {},
   "source": [
    "# Setup\n",
    "## Imports"
   ]
  },
  {
   "cell_type": "code",
   "execution_count": null,
   "metadata": {},
   "outputs": [],
   "source": [
    "%load_ext autoreload\n",
    "%autoreload 2\n"
   ]
  },
  {
   "cell_type": "code",
   "execution_count": null,
   "metadata": {},
   "outputs": [],
   "source": [
    "from generative_social_choice.utils.postprocessing import (\n",
    "    collect_results_and_plot,\n",
    "    plot_sorted_utility_distributions,\n",
    "    plot_candidate_distribution_stacked,\n",
    "    clustered_barplot_with_error_bars,\n",
    "    plot_scalar_clustered_confidence_intervals,\n",
    "    ResultConfig,\n",
    ")\n"
   ]
  },
  {
   "cell_type": "markdown",
   "metadata": {},
   "source": [
    "## Load data"
   ]
  },
  {
   "cell_type": "code",
   "execution_count": null,
   "metadata": {},
   "outputs": [],
   "source": [
    "\n",
    "METHOD = \"exact\"\n",
    "CONFIDENCE_LEVEL = .95\n",
    "N_BOOTSTRAP = 400\n",
    "\n",
    "result_configs = [\n",
    "    ResultConfig(\n",
    "        name=\"Ours (LLM Embeddings)\",\n",
    "        embedding_type=\"llm\",\n",
    "        run_ids=list(range(10)),\n",
    "    ),\n",
    "    ResultConfig(\n",
    "        name=\"Ours (Fish Embeddings)\",\n",
    "        embedding_type=\"fish\",\n",
    "        run_ids=[f\"fish_{i}\" for i in range(10)],\n",
    "    ),\n",
    "    ResultConfig(\n",
    "        name=\"Baseline (OpenAI Embeddings)\",\n",
    "        embedding_type=\"seed_statement\",\n",
    "        run_ids=range(15),\n",
    "        pipeline=\"fish\",\n",
    "    ),\n",
    "    ResultConfig(\n",
    "        name=\"Baseline (Fish Embeddings)\",\n",
    "        embedding_type=\"llm\",\n",
    "        run_ids=range(15),\n",
    "        pipeline=\"fish\",\n",
    "    )\n",
    "]\n",
    "\n",
    "results = collect_results_and_plot(result_configs, method=METHOD, confidence_level=CONFIDENCE_LEVEL, n_bootstrap=N_BOOTSTRAP)\n",
    "\n",
    "results[\"scalar_confidence_intervals\"]"
   ]
  },
  {
   "cell_type": "code",
   "execution_count": null,
   "metadata": {},
   "outputs": [],
   "source": [
    "scalar_confidence_intervals_plot = plot_scalar_clustered_confidence_intervals(\n",
    "    results[\"scalar_confidence_intervals\"].iloc[:,:3],\n",
    "    y_label=\"Agreement\",\n",
    "    legend_loc=\"center left\",\n",
    "    fig_size=(4.5, 4),\n",
    "    secondary_axis_df=results[\"scalar_confidence_intervals\"].iloc[:,[3]],\n",
    "    secondary_y_label=\"Gini\"\n",
    ")"
   ]
  },
  {
   "cell_type": "code",
   "execution_count": null,
   "metadata": {},
   "outputs": [],
   "source": [
    "scalar_confidence_intervals_plot = clustered_barplot_with_error_bars(\n",
    "    results[\"scalar_confidence_intervals\"].iloc[:,:3],\n",
    "    y_label=\"Agreement\",\n",
    "    legend_loc=\"center left\",\n",
    "    fig_size=(4.5, 4),\n",
    "    secondary_axis_df=results[\"scalar_confidence_intervals\"].iloc[:,[3]],\n",
    "    secondary_y_label=\"Gini\"\n",
    ")"
   ]
  },
  {
   "cell_type": "markdown",
   "metadata": {},
   "source": [
    "### Older Plots"
   ]
  },
  {
   "cell_type": "code",
   "execution_count": null,
   "metadata": {},
   "outputs": [],
   "source": [
    "fig = plot_sorted_utility_distributions(results[\"utility_df_dict\"][\"Ours (LLM Embeddings)\"][0])"
   ]
  },
  {
   "cell_type": "code",
   "execution_count": null,
   "metadata": {},
   "outputs": [],
   "source": [
    "fig = plot_candidate_distribution_stacked(results[\"algo_assignments\"][\"Ours (LLM Embeddings)\"][0])"
   ]
  }
 ],
 "metadata": {
  "kernelspec": {
   "display_name": "venv",
   "language": "python",
   "name": "python3"
  },
  "language_info": {
   "codemirror_mode": {
    "name": "ipython",
    "version": 3
   },
   "file_extension": ".py",
   "mimetype": "text/x-python",
   "name": "python",
   "nbconvert_exporter": "python",
   "pygments_lexer": "ipython3",
   "version": "3.12.8"
  }
 },
 "nbformat": 4,
 "nbformat_minor": 4
}
