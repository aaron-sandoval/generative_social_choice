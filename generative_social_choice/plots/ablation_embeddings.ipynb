{
 "cells": [
  {
   "cell_type": "markdown",
   "metadata": {},
   "source": [
    "# Setup\n",
    "## Imports"
   ]
  },
  {
   "cell_type": "code",
   "execution_count": 1,
   "metadata": {},
   "outputs": [],
   "source": [
    "%load_ext autoreload\n",
    "%autoreload 2\n"
   ]
  },
  {
   "cell_type": "code",
   "execution_count": 2,
   "metadata": {},
   "outputs": [],
   "source": [
    "import matplotlib.pyplot as plt\n",
    "import json\n",
    "import pandas as pd\n",
    "import numpy as np\n",
    "import scipy\n",
    "\n",
    "from generative_social_choice.utils.helper_functions import get_base_dir_path\n",
    "from generative_social_choice.slates.voting_utils import gini\n",
    "from generative_social_choice.ratings.utility_matrix import extract_voter_utilities_from_info_csv\n",
    "from generative_social_choice.utils.postprocessing import (\n",
    "    plot_sorted_utility_distributions,\n",
    "    plot_likert_category_clustered_bar_chart,\n",
    "    scalar_utility_metrics,\n",
    "    plot_candidate_distribution_stacked,\n",
    "    \n",
    ")\n"
   ]
  },
  {
   "cell_type": "markdown",
   "metadata": {},
   "source": [
    "# Ablations"
   ]
  },
  {
   "cell_type": "markdown",
   "metadata": {},
   "source": [
    "## Embedding Ablation"
   ]
  },
  {
   "cell_type": "code",
   "execution_count": 3,
   "metadata": {},
   "outputs": [
    {
     "data": {
      "text/html": [
       "<div>\n",
       "<style scoped>\n",
       "    .dataframe tbody tr th:only-of-type {\n",
       "        vertical-align: middle;\n",
       "    }\n",
       "\n",
       "    .dataframe tbody tr th {\n",
       "        vertical-align: top;\n",
       "    }\n",
       "\n",
       "    .dataframe thead th {\n",
       "        text-align: right;\n",
       "    }\n",
       "</style>\n",
       "<table border=\"1\" class=\"dataframe\">\n",
       "  <thead>\n",
       "    <tr style=\"text-align: right;\">\n",
       "      <th></th>\n",
       "      <th>candidate_id</th>\n",
       "      <th>utility</th>\n",
       "    </tr>\n",
       "    <tr>\n",
       "      <th>Voter</th>\n",
       "      <th></th>\n",
       "      <th></th>\n",
       "    </tr>\n",
       "  </thead>\n",
       "  <tbody>\n",
       "    <tr>\n",
       "      <th>generation1</th>\n",
       "      <td>18</td>\n",
       "      <td>3.652164</td>\n",
       "    </tr>\n",
       "    <tr>\n",
       "      <th>generation10</th>\n",
       "      <td>3</td>\n",
       "      <td>3.996646</td>\n",
       "    </tr>\n",
       "    <tr>\n",
       "      <th>generation100</th>\n",
       "      <td>17</td>\n",
       "      <td>3.871335</td>\n",
       "    </tr>\n",
       "    <tr>\n",
       "      <th>generation11</th>\n",
       "      <td>9</td>\n",
       "      <td>3.996955</td>\n",
       "    </tr>\n",
       "    <tr>\n",
       "      <th>generation12</th>\n",
       "      <td>18</td>\n",
       "      <td>3.389729</td>\n",
       "    </tr>\n",
       "  </tbody>\n",
       "</table>\n",
       "</div>"
      ],
      "text/plain": [
       "               candidate_id   utility\n",
       "Voter                                \n",
       "generation1              18  3.652164\n",
       "generation10              3  3.996646\n",
       "generation100            17  3.871335\n",
       "generation11              9  3.996955\n",
       "generation12             18  3.389729"
      ]
     },
     "execution_count": 3,
     "metadata": {},
     "output_type": "execute_result"
    }
   ],
   "source": [
    "# bjr_with_baseline_embeddings_paths = get_results_paths(labelling_model=LABELLING_MODEL, embedding_type=\"seed_statement\", baseline=False)\n",
    "\n",
    "bjr_with_baseline_embeddings_path =  get_base_dir_path() / \"data/demo_data/2025-05-29-232314__generate_slate_via_fish_nn\" / \"info.csv\"\n",
    "bjr_with_baseline_embeddings = extract_voter_utilities_from_info_csv(bjr_with_baseline_embeddings_path)\n",
    "bjr_with_baseline_embeddings.head()"
   ]
  },
  {
   "cell_type": "code",
   "execution_count": 4,
   "metadata": {},
   "outputs": [
    {
     "data": {
      "text/html": [
       "<div>\n",
       "<style scoped>\n",
       "    .dataframe tbody tr th:only-of-type {\n",
       "        vertical-align: middle;\n",
       "    }\n",
       "\n",
       "    .dataframe tbody tr th {\n",
       "        vertical-align: top;\n",
       "    }\n",
       "\n",
       "    .dataframe thead th {\n",
       "        text-align: right;\n",
       "    }\n",
       "</style>\n",
       "<table border=\"1\" class=\"dataframe\">\n",
       "  <thead>\n",
       "    <tr style=\"text-align: right;\">\n",
       "      <th></th>\n",
       "      <th>candidate_id</th>\n",
       "      <th>utility</th>\n",
       "    </tr>\n",
       "    <tr>\n",
       "      <th>Voter</th>\n",
       "      <th></th>\n",
       "      <th></th>\n",
       "    </tr>\n",
       "  </thead>\n",
       "  <tbody>\n",
       "    <tr>\n",
       "      <th>generation1</th>\n",
       "      <td>13</td>\n",
       "      <td>3.898625</td>\n",
       "    </tr>\n",
       "    <tr>\n",
       "      <th>generation10</th>\n",
       "      <td>13</td>\n",
       "      <td>3.990606</td>\n",
       "    </tr>\n",
       "    <tr>\n",
       "      <th>generation100</th>\n",
       "      <td>13</td>\n",
       "      <td>3.872195</td>\n",
       "    </tr>\n",
       "    <tr>\n",
       "      <th>generation11</th>\n",
       "      <td>6</td>\n",
       "      <td>3.996033</td>\n",
       "    </tr>\n",
       "    <tr>\n",
       "      <th>generation12</th>\n",
       "      <td>21</td>\n",
       "      <td>3.950161</td>\n",
       "    </tr>\n",
       "  </tbody>\n",
       "</table>\n",
       "</div>"
      ],
      "text/plain": [
       "               candidate_id   utility\n",
       "Voter                                \n",
       "generation1              13  3.898625\n",
       "generation10             13  3.990606\n",
       "generation100            13  3.872195\n",
       "generation11              6  3.996033\n",
       "generation12             21  3.950161"
      ]
     },
     "execution_count": 4,
     "metadata": {},
     "output_type": "execute_result"
    }
   ],
   "source": [
    "bjr_with_openai_embeddings_path =  get_base_dir_path() / \"data/demo_data/2025-05-29-235156__generate_slate_via_openai_embeddings_nn\" / \"info.csv\"\n",
    "df_bjr_with_openai_embeddings = extract_voter_utilities_from_info_csv(bjr_with_openai_embeddings_path)\n",
    "df_bjr_with_openai_embeddings.head()"
   ]
  },
  {
   "cell_type": "code",
   "execution_count": 5,
   "metadata": {},
   "outputs": [
    {
     "data": {
      "text/html": [
       "<div>\n",
       "<style scoped>\n",
       "    .dataframe tbody tr th:only-of-type {\n",
       "        vertical-align: middle;\n",
       "    }\n",
       "\n",
       "    .dataframe tbody tr th {\n",
       "        vertical-align: top;\n",
       "    }\n",
       "\n",
       "    .dataframe thead th {\n",
       "        text-align: right;\n",
       "    }\n",
       "</style>\n",
       "<table border=\"1\" class=\"dataframe\">\n",
       "  <thead>\n",
       "    <tr style=\"text-align: right;\">\n",
       "      <th></th>\n",
       "      <th>Baseline Embeddings</th>\n",
       "      <th>OpenAI Embeddings</th>\n",
       "    </tr>\n",
       "    <tr>\n",
       "      <th>Voter</th>\n",
       "      <th></th>\n",
       "      <th></th>\n",
       "    </tr>\n",
       "  </thead>\n",
       "  <tbody>\n",
       "    <tr>\n",
       "      <th>generation1</th>\n",
       "      <td>3.652164</td>\n",
       "      <td>3.898625</td>\n",
       "    </tr>\n",
       "    <tr>\n",
       "      <th>generation10</th>\n",
       "      <td>3.996646</td>\n",
       "      <td>3.990606</td>\n",
       "    </tr>\n",
       "    <tr>\n",
       "      <th>generation100</th>\n",
       "      <td>3.871335</td>\n",
       "      <td>3.872195</td>\n",
       "    </tr>\n",
       "    <tr>\n",
       "      <th>generation11</th>\n",
       "      <td>3.996955</td>\n",
       "      <td>3.996033</td>\n",
       "    </tr>\n",
       "    <tr>\n",
       "      <th>generation12</th>\n",
       "      <td>3.389729</td>\n",
       "      <td>3.950161</td>\n",
       "    </tr>\n",
       "    <tr>\n",
       "      <th>...</th>\n",
       "      <td>...</td>\n",
       "      <td>...</td>\n",
       "    </tr>\n",
       "    <tr>\n",
       "      <th>generation95</th>\n",
       "      <td>2.217852</td>\n",
       "      <td>3.940947</td>\n",
       "    </tr>\n",
       "    <tr>\n",
       "      <th>generation96</th>\n",
       "      <td>3.989112</td>\n",
       "      <td>3.995287</td>\n",
       "    </tr>\n",
       "    <tr>\n",
       "      <th>generation97</th>\n",
       "      <td>3.526558</td>\n",
       "      <td>3.087988</td>\n",
       "    </tr>\n",
       "    <tr>\n",
       "      <th>generation98</th>\n",
       "      <td>3.978294</td>\n",
       "      <td>3.991713</td>\n",
       "    </tr>\n",
       "    <tr>\n",
       "      <th>generation99</th>\n",
       "      <td>3.911072</td>\n",
       "      <td>3.871172</td>\n",
       "    </tr>\n",
       "  </tbody>\n",
       "</table>\n",
       "<p>100 rows × 2 columns</p>\n",
       "</div>"
      ],
      "text/plain": [
       "               Baseline Embeddings  OpenAI Embeddings\n",
       "Voter                                                \n",
       "generation1               3.652164           3.898625\n",
       "generation10              3.996646           3.990606\n",
       "generation100             3.871335           3.872195\n",
       "generation11              3.996955           3.996033\n",
       "generation12              3.389729           3.950161\n",
       "...                            ...                ...\n",
       "generation95              2.217852           3.940947\n",
       "generation96              3.989112           3.995287\n",
       "generation97              3.526558           3.087988\n",
       "generation98              3.978294           3.991713\n",
       "generation99              3.911072           3.871172\n",
       "\n",
       "[100 rows x 2 columns]"
      ]
     },
     "execution_count": 5,
     "metadata": {},
     "output_type": "execute_result"
    }
   ],
   "source": [
    "embedding_ablation_utilities = pd.concat([\n",
    "    bjr_with_baseline_embeddings.utility.rename(\"Baseline Embeddings\"),\n",
    "    df_bjr_with_openai_embeddings.utility.rename(\"OpenAI Embeddings\")\n",
    "],\n",
    "axis=1)\n",
    "embedding_ablation_utilities"
   ]
  },
  {
   "cell_type": "code",
   "execution_count": 6,
   "metadata": {},
   "outputs": [
    {
     "data": {
      "image/png": "[encoded data removed]",
      "text/plain": [
       "<Figure size 1000x600 with 1 Axes>"
      ]
     },
     "metadata": {},
     "output_type": "display_data"
    }
   ],
   "source": [
    "embedding_ablation_fig = plot_sorted_utility_distributions(embedding_ablation_utilities)"
   ]
  },
  {
   "cell_type": "code",
   "execution_count": 7,
   "metadata": {},
   "outputs": [
    {
     "data": {
      "text/html": [
       "<div>\n",
       "<style scoped>\n",
       "    .dataframe tbody tr th:only-of-type {\n",
       "        vertical-align: middle;\n",
       "    }\n",
       "\n",
       "    .dataframe tbody tr th {\n",
       "        vertical-align: top;\n",
       "    }\n",
       "\n",
       "    .dataframe thead th {\n",
       "        text-align: right;\n",
       "    }\n",
       "</style>\n",
       "<table border=\"1\" class=\"dataframe\">\n",
       "  <thead>\n",
       "    <tr style=\"text-align: right;\">\n",
       "      <th></th>\n",
       "      <th>Avg_Utility</th>\n",
       "      <th>Min_Utility</th>\n",
       "      <th>25th_Pctile_Utility</th>\n",
       "      <th>Gini</th>\n",
       "    </tr>\n",
       "  </thead>\n",
       "  <tbody>\n",
       "    <tr>\n",
       "      <th>Baseline Embeddings</th>\n",
       "      <td>3.752362</td>\n",
       "      <td>2.217852</td>\n",
       "      <td>3.561705</td>\n",
       "      <td>0.046244</td>\n",
       "    </tr>\n",
       "    <tr>\n",
       "      <th>OpenAI Embeddings</th>\n",
       "      <td>3.809875</td>\n",
       "      <td>2.529911</td>\n",
       "      <td>3.839772</td>\n",
       "      <td>0.037781</td>\n",
       "    </tr>\n",
       "  </tbody>\n",
       "</table>\n",
       "</div>"
      ],
      "text/plain": [
       "                     Avg_Utility  Min_Utility  25th_Pctile_Utility      Gini\n",
       "Baseline Embeddings     3.752362     2.217852             3.561705  0.046244\n",
       "OpenAI Embeddings       3.809875     2.529911             3.839772  0.037781"
      ]
     },
     "execution_count": 7,
     "metadata": {},
     "output_type": "execute_result"
    }
   ],
   "source": [
    "scalar_utility_metrics(embedding_ablation_utilities)"
   ]
  }
 ],
 "metadata": {
  "kernelspec": {
   "display_name": "generative-social-choice-dKh-R6iu-py3.12",
   "language": "python",
   "name": "python3"
  },
  "language_info": {
   "codemirror_mode": {
    "name": "ipython",
    "version": 3
   },
   "file_extension": ".py",
   "mimetype": "text/x-python",
   "name": "python",
   "nbconvert_exporter": "python",
   "pygments_lexer": "ipython3",
   "version": "3.12.7"
  }
 },
 "nbformat": 4,
 "nbformat_minor": 4
}
