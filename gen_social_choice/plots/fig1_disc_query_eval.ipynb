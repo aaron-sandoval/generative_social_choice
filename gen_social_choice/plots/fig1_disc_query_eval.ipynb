{
 "cells": [
  {
   "cell_type": "code",
   "execution_count": 1,
   "metadata": {},
   "outputs": [],
   "source": [
    "%load_ext autoreload \n",
    "%autoreload 2"
   ]
  },
  {
   "cell_type": "code",
   "execution_count": 2,
   "metadata": {},
   "outputs": [
    {
     "ename": "ModuleNotFoundError",
     "evalue": "No module named 'matplotlib'",
     "output_type": "error",
     "traceback": [
      "\u001b[0;31m---------------------------------------------------------------------------\u001b[0m",
      "\u001b[0;31mModuleNotFoundError\u001b[0m                       Traceback (most recent call last)",
      "\u001b[1;32m/home/sara/Dropbox/projects/202308_generative_Social_choice/chatbot_personalization/chatbot_personalization/plots/fig1_disc_query_eval.ipynb Cell 2\u001b[0m line \u001b[0;36m1\n\u001b[0;32m----> <a href='vscode-notebook-cell:/home/sara/Dropbox/projects/202308_generative_Social_choice/chatbot_personalization/chatbot_personalization/plots/fig1_disc_query_eval.ipynb#W1sZmlsZQ%3D%3D?line=0'>1</a>\u001b[0m \u001b[39mimport\u001b[39;00m \u001b[39mmatplotlib\u001b[39;00m\u001b[39m.\u001b[39;00m\u001b[39mpyplot\u001b[39;00m \u001b[39mas\u001b[39;00m \u001b[39mplt\u001b[39;00m\n\u001b[1;32m      <a href='vscode-notebook-cell:/home/sara/Dropbox/projects/202308_generative_Social_choice/chatbot_personalization/chatbot_personalization/plots/fig1_disc_query_eval.ipynb#W1sZmlsZQ%3D%3D?line=1'>2</a>\u001b[0m \u001b[39mimport\u001b[39;00m \u001b[39mseaborn\u001b[39;00m \u001b[39mas\u001b[39;00m \u001b[39msns\u001b[39;00m\n\u001b[1;32m      <a href='vscode-notebook-cell:/home/sara/Dropbox/projects/202308_generative_Social_choice/chatbot_personalization/chatbot_personalization/plots/fig1_disc_query_eval.ipynb#W1sZmlsZQ%3D%3D?line=2'>3</a>\u001b[0m \u001b[39mimport\u001b[39;00m \u001b[39mjson\u001b[39;00m\n",
      "\u001b[0;31mModuleNotFoundError\u001b[0m: No module named 'matplotlib'"
     ]
    }
   ],
   "source": [
    "import matplotlib.pyplot as plt\n",
    "import seaborn as sns\n",
    "import json\n",
    "import pandas as pd\n",
    "from matplotlib.colors import LinearSegmentedColormap\n",
    "import numpy as np\n",
    "from chatbot_personalization.utils.helper_functions import get_base_dir_path"
   ]
  },
  {
   "cell_type": "markdown",
   "metadata": {},
   "source": [
    "# Generate Figure 1"
   ]
  },
  {
   "cell_type": "code",
   "execution_count": null,
   "metadata": {},
   "outputs": [],
   "source": [
    "def create_heatmap(pivot_table, title_name, save_path, vmin=None, vmax=None):\n",
    "    # Create the custom color map\n",
    "    color_map = LinearSegmentedColormap.from_list(\"custom_cmap\", [\"#F8F8FF\", \"#3753A5\"])\n",
    "\n",
    "    # Determine vmin and vmax if not provided\n",
    "    if vmin is None:\n",
    "        vmin = pivot_table.min().min()\n",
    "    if vmax is None:\n",
    "        vmax = pivot_table.max().max()\n",
    "\n",
    "    # Set the figure size\n",
    "    plt.figure(figsize=(10, 9))\n",
    "\n",
    "    sns.heatmap(\n",
    "        pivot_table,\n",
    "        annot=True,\n",
    "        cmap=color_map,\n",
    "        linewidths=2.0,\n",
    "        fmt=\".2f\",\n",
    "        cbar=False,\n",
    "        vmin=vmin,\n",
    "        vmax=vmax,\n",
    "        annot_kws={\"size\": 20},\n",
    "    )\n",
    "\n",
    "    # Adjust the size of the ticks\n",
    "    plt.tick_params(axis=\"both\", which=\"major\", labelsize=20)\n",
    "    ticks_font = 30\n",
    "    plt.yticks(fontsize=ticks_font, rotation=0)\n",
    "    plt.xticks(fontsize=ticks_font, rotation=0)\n",
    "    # Adjust the font size for the heatmap and axis titles\n",
    "    plt.xlabel(\"Distribution of Predicted Ratings\", fontsize=32, labelpad=15)\n",
    "    plt.ylabel(\"Participant Ratings\", fontsize=32)\n",
    "\n",
    "    # Set the title if provided\n",
    "    if title_name:\n",
    "        plt.title(title_name, fontsize=25)\n",
    "\n",
    "    # Save the heatmap figure in PDF format without the color bar\n",
    "    plt.savefig(f\"{save_path}.pdf\", bbox_inches=\"tight\")"
   ]
  },
  {
   "cell_type": "code",
   "execution_count": null,
   "metadata": {},
   "outputs": [],
   "source": [
    "def create_histo_heatmap(pivot_table, title_name, save_path, vmin=None, vmax=None):\n",
    "    # Create the custom color map\n",
    "    color_map = LinearSegmentedColormap.from_list(\"custom_cmap\", [\"#F8F8FF\", \"#3753A5\"])\n",
    "\n",
    "    # Determine vmin and vmax if not provided\n",
    "    if vmin is None:\n",
    "        vmin = pivot_table.min().min()\n",
    "    if vmax is None:\n",
    "        vmax = pivot_table.max().max()\n",
    "\n",
    "    # Set the figure size\n",
    "    plt.figure(figsize=(15, 9))\n",
    "\n",
    "    sns.heatmap(\n",
    "        pivot_table,\n",
    "        annot=True,\n",
    "        cmap=color_map,\n",
    "        linewidths=2.0,\n",
    "        fmt=\".2f\",\n",
    "        cbar=False,\n",
    "        vmin=vmin,\n",
    "        vmax=vmax,\n",
    "        annot_kws={\"size\": 20},\n",
    "    )\n",
    "\n",
    "    # Adjust the size of the ticks\n",
    "    plt.tick_params(axis=\"both\", which=\"major\", labelsize=20)\n",
    "    ticks_font = 30\n",
    "    plt.yticks(fontsize=ticks_font, rotation=0)\n",
    "\n",
    "    # Adjust the font size for the heatmap and axis titles\n",
    "    plt.xlabel(\"Expected Value of Predicted Ratings\", fontsize=30, labelpad=15)\n",
    "    plt.ylabel(\"Participant Ratings\", fontsize=32)\n",
    "\n",
    "    # Set the title if provided\n",
    "    if title_name:\n",
    "        plt.title(title_name, fontsize=25)\n",
    "\n",
    "    # Set x-axis ticks for bin intervals\n",
    "    bin_intervals = [\n",
    "        \"[0, 0.5)\",\n",
    "        \"[0.5, 1)\",\n",
    "        \"[1, 1.5)\",\n",
    "        \"[1.5, 2)\",\n",
    "        \"[2, 2.5)\",\n",
    "        \"[2.5, 3)\",\n",
    "        \"[3, 3.5)\",\n",
    "        \"[3.5, 4)\",\n",
    "    ]\n",
    "    tick_positions = np.arange(len(bin_intervals)) + 0.5  # Adjust tick positions\n",
    "    plt.xticks(\n",
    "        ticks=tick_positions, labels=bin_intervals, rotation=0, ha=\"center\", fontsize=23\n",
    "    )\n",
    "\n",
    "    # Save the heatmap figure in PDF format without the color bar\n",
    "    plt.savefig(f\"{save_path}.pdf\", bbox_inches=\"tight\")"
   ]
  },
  {
   "cell_type": "code",
   "execution_count": null,
   "metadata": {},
   "outputs": [],
   "source": [
    "def get_probabilities(*, completion, token_idx):\n",
    "    \"\"\"\n",
    "    Given a GPT completion object, and token_idx of the token we care about, return the actual probabilities of the completion.\n",
    "    \"\"\"\n",
    "    completion = completion[\"choices\"]\n",
    "    assert len(completion) == 1\n",
    "    try:\n",
    "        logprobs = completion[0][\"logprobs\"][\"top_logprobs\"][token_idx]\n",
    "    except IndexError:\n",
    "        return []\n",
    "    logprobs = pd.Series(logprobs)\n",
    "    probs = logprobs.apply(np.exp)\n",
    "    return probs\n",
    "\n",
    "\n",
    "def expected_value(array):\n",
    "    return sum(index * value for index, value in enumerate(array))"
   ]
  },
  {
   "cell_type": "markdown",
   "metadata": {},
   "source": [
    "# Load data"
   ]
  },
  {
   "cell_type": "code",
   "execution_count": null,
   "metadata": {},
   "outputs": [],
   "source": [
    "filename = get_base_dir_path() / \"data/validate_disc_query_logs.csv\"\n",
    "\n",
    "df = pd.read_csv(filename, index_col=0)\n",
    "df[\"probs\"] = df[\"completion\"].apply(\n",
    "    lambda x: get_probabilities(completion=json.loads(x), token_idx=1).values\n",
    ")"
   ]
  },
  {
   "cell_type": "code",
   "execution_count": null,
   "metadata": {},
   "outputs": [],
   "source": [
    "freq_table = pd.DataFrame(columns=range(0, 5), index=range(0, 5)).astype(float)\n",
    "for i in range(5):\n",
    "    freq_table.loc[i] = (\n",
    "        df[df[\"correct_choice\"] == i][\"probs\"].apply(pd.Series).mean().tolist()\n",
    "    )"
   ]
  },
  {
   "cell_type": "markdown",
   "metadata": {},
   "source": [
    "# Generate Figure 1a"
   ]
  },
  {
   "cell_type": "code",
   "execution_count": null,
   "metadata": {},
   "outputs": [],
   "source": [
    "save_path = get_base_dir_path() / \"plots/fig1_disc_query_eval_avg\"\n",
    "create_heatmap(freq_table, \"\", save_path, vmax=0.5)"
   ]
  },
  {
   "cell_type": "code",
   "execution_count": null,
   "metadata": {},
   "outputs": [],
   "source": [
    "bins = 9\n",
    "\n",
    "df = df.copy()\n",
    "df[\"expected_value\"] = df[\"probs\"].apply(expected_value)\n",
    "df = df[[\"expected_value\", \"correct_choice\"]]\n",
    "\n",
    "# Define bin edges\n",
    "bins_edges = np.linspace(0, 4, num=bins)\n",
    "# Bin the 'expected_value' column\n",
    "df.loc[:, \"bins\"] = pd.cut(\n",
    "    df[\"expected_value\"], bins=bins_edges, labels=False, include_lowest=True\n",
    ")\n",
    "# Count occurrences\n",
    "count_df = df.groupby([\"correct_choice\", \"bins\"]).size().reset_index(name=\"count\")\n",
    "# Create the pivot table\n",
    "pivot_table = count_df.pivot(\n",
    "    index=\"correct_choice\", columns=\"bins\", values=\"count\"\n",
    ").fillna(0)\n",
    "# Normalize the counts to get fractions\n",
    "pivot_table = pivot_table.div(pivot_table.sum(axis=1), axis=0)"
   ]
  },
  {
   "cell_type": "markdown",
   "metadata": {},
   "source": [
    "# Generate Figure 1b"
   ]
  },
  {
   "cell_type": "code",
   "execution_count": null,
   "metadata": {},
   "outputs": [],
   "source": [
    "save_path2 = get_base_dir_path() / \"plots/fig1_disc_query_eval_ev\"\n",
    "create_histo_heatmap(pivot_table, \"\", save_path2, vmax=0.5)"
   ]
  },
  {
   "cell_type": "code",
   "execution_count": null,
   "metadata": {},
   "outputs": [],
   "source": []
  }
 ],
 "metadata": {
  "kernelspec": {
   "display_name": ".venv",
   "language": "python",
   "name": "python3"
  },
  "language_info": {
   "codemirror_mode": {
    "name": "ipython",
    "version": 3
   },
   "file_extension": ".py",
   "mimetype": "text/x-python",
   "name": "python",
   "nbconvert_exporter": "python",
   "pygments_lexer": "ipython3",
   "version": "3.12.3"
  }
 },
 "nbformat": 4,
 "nbformat_minor": 2
}
