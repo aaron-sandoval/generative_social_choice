{
 "cells": [
  {
   "cell_type": "code",
   "execution_count": 1,
   "metadata": {},
   "outputs": [
    {
     "data": {
      "text/plain": [
       "['C:\\\\Users\\\\aaron\\\\.pyenv\\\\pyenv-win\\\\versions\\\\3.12.7\\\\python312.zip',\n",
       " 'C:\\\\Users\\\\aaron\\\\.pyenv\\\\pyenv-win\\\\versions\\\\3.12.7\\\\DLLs',\n",
       " 'C:\\\\Users\\\\aaron\\\\.pyenv\\\\pyenv-win\\\\versions\\\\3.12.7\\\\Lib',\n",
       " 'C:\\\\Users\\\\aaron\\\\.pyenv\\\\pyenv-win\\\\versions\\\\3.12.7',\n",
       " 'c:\\\\Users\\\\aaron\\\\AppData\\\\Local\\\\pypoetry\\\\Cache\\\\virtualenvs\\\\generative-social-choice-dKh-R6iu-py3.12',\n",
       " '',\n",
       " 'c:\\\\Users\\\\aaron\\\\AppData\\\\Local\\\\pypoetry\\\\Cache\\\\virtualenvs\\\\generative-social-choice-dKh-R6iu-py3.12\\\\Lib\\\\site-packages',\n",
       " 'c:\\\\Users\\\\aaron\\\\AppData\\\\Local\\\\pypoetry\\\\Cache\\\\virtualenvs\\\\generative-social-choice-dKh-R6iu-py3.12\\\\Lib\\\\site-packages\\\\win32',\n",
       " 'c:\\\\Users\\\\aaron\\\\AppData\\\\Local\\\\pypoetry\\\\Cache\\\\virtualenvs\\\\generative-social-choice-dKh-R6iu-py3.12\\\\Lib\\\\site-packages\\\\win32\\\\lib',\n",
       " 'c:\\\\Users\\\\aaron\\\\AppData\\\\Local\\\\pypoetry\\\\Cache\\\\virtualenvs\\\\generative-social-choice-dKh-R6iu-py3.12\\\\Lib\\\\site-packages\\\\Pythonwin']"
      ]
     },
     "execution_count": 1,
     "metadata": {},
     "output_type": "execute_result"
    }
   ],
   "source": [
    "import sys\n",
    "sys.path"
   ]
  },
  {
   "cell_type": "code",
   "execution_count": 2,
   "metadata": {},
   "outputs": [
    {
     "ename": "ModuleNotFoundError",
     "evalue": "No module named 'generative_social_choice'",
     "output_type": "error",
     "traceback": [
      "\u001b[1;31m---------------------------------------------------------------------------\u001b[0m",
      "\u001b[1;31mModuleNotFoundError\u001b[0m                       Traceback (most recent call last)",
      "Cell \u001b[1;32mIn[2], line 7\u001b[0m\n\u001b[0;32m      5\u001b[0m \u001b[38;5;28;01mfrom\u001b[39;00m\u001b[38;5;250m \u001b[39m\u001b[38;5;21;01mmatplotlib\u001b[39;00m\u001b[38;5;21;01m.\u001b[39;00m\u001b[38;5;21;01mcolors\u001b[39;00m\u001b[38;5;250m \u001b[39m\u001b[38;5;28;01mimport\u001b[39;00m LinearSegmentedColormap\n\u001b[0;32m      6\u001b[0m \u001b[38;5;28;01mimport\u001b[39;00m\u001b[38;5;250m \u001b[39m\u001b[38;5;21;01mnumpy\u001b[39;00m\u001b[38;5;250m \u001b[39m\u001b[38;5;28;01mas\u001b[39;00m\u001b[38;5;250m \u001b[39m\u001b[38;5;21;01mnp\u001b[39;00m\n\u001b[1;32m----> 7\u001b[0m \u001b[38;5;28;01mfrom\u001b[39;00m\u001b[38;5;250m \u001b[39m\u001b[38;5;21;01mgenerative_social_choice\u001b[39;00m\u001b[38;5;21;01m.\u001b[39;00m\u001b[38;5;21;01mutils\u001b[39;00m\u001b[38;5;21;01m.\u001b[39;00m\u001b[38;5;21;01mhelper_functions\u001b[39;00m\u001b[38;5;250m \u001b[39m\u001b[38;5;28;01mimport\u001b[39;00m get_base_dir_path\n",
      "\u001b[1;31mModuleNotFoundError\u001b[0m: No module named 'generative_social_choice'"
     ]
    }
   ],
   "source": [
    "import matplotlib.pyplot as plt\n",
    "import seaborn as sns\n",
    "import json\n",
    "import pandas as pd\n",
    "from matplotlib.colors import LinearSegmentedColormap\n",
    "import numpy as np\n",
    "from generative_social_choice.utils.helper_functions import get_base_dir_path\n"
   ]
  },
  {
   "cell_type": "code",
   "execution_count": null,
   "metadata": {},
   "outputs": [],
   "source": []
  }
 ],
 "metadata": {
  "kernelspec": {
   "display_name": "generative-social-choice-dKh-R6iu-py3.12",
   "language": "python",
   "name": "python3"
  },
  "language_info": {
   "codemirror_mode": {
    "name": "ipython",
    "version": 3
   },
   "file_extension": ".py",
   "mimetype": "text/x-python",
   "name": "python",
   "nbconvert_exporter": "python",
   "pygments_lexer": "ipython3",
   "version": "3.12.7"
  }
 },
 "nbformat": 4,
 "nbformat_minor": 2
}
