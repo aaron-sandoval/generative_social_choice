{
 "cells": [
  {
   "cell_type": "markdown",
   "metadata": {},
   "source": [
    "# Setup\n",
    "## Imports"
   ]
  },
  {
   "cell_type": "code",
   "execution_count": 1,
   "metadata": {},
   "outputs": [],
   "source": [
    "%load_ext autoreload\n",
    "%autoreload 2\n"
   ]
  },
  {
   "cell_type": "code",
   "execution_count": 23,
   "metadata": {},
   "outputs": [],
   "source": [
    "import matplotlib.pyplot as plt\n",
    "import seaborn as sns\n",
    "import json\n",
    "import pandas as pd\n",
    "from matplotlib.colors import LinearSegmentedColormap\n",
    "import numpy as np\n",
    "import scipy\n",
    "from gen_social_choice.utils.helper_functions import get_base_dir_path\n"
   ]
  },
  {
   "cell_type": "markdown",
   "metadata": {},
   "source": [
    "## Constants"
   ]
  },
  {
   "cell_type": "code",
   "execution_count": 20,
   "metadata": {},
   "outputs": [],
   "source": [
    "likert_scores: dict[int, str] = {\n",
    "    0: \"Very poorly\",\n",
    "    1: \"Poorly\",\n",
    "    2: \"Moderately\",\n",
    "    3: \"Well\",\n",
    "    4: \"Very well\",\n",
    "    5: \"Excellently\",\n",
    "    6: \"Exceptionally\",\n",
    "}\n",
    "likert_scores_reverse: dict[str, int] = {v: k for k, v in likert_scores.items()}\n"
   ]
  },
  {
   "cell_type": "markdown",
   "metadata": {},
   "source": [
    "## Load data"
   ]
  },
  {
   "cell_type": "code",
   "execution_count": 12,
   "metadata": {},
   "outputs": [
    {
     "data": {
      "text/plain": [
       "dict_keys(['slate', 'slate_statements', 'agent_ids', 'assignments', 'utilities'])"
      ]
     },
     "execution_count": 12,
     "metadata": {},
     "output_type": "execute_result"
    }
   ],
   "source": [
    "data_dir_path = get_base_dir_path() / \"data\" / \"demo_data\"\n",
    "trial_prefix = \"TEST_\"\n",
    "assignments_file_path = data_dir_path / f\"{trial_prefix}assignments.json\"\n",
    "\n",
    "with open(assignments_file_path, \"r\") as f:\n",
    "    assignment_data = (json.load(f))\n",
    "\n",
    "\n",
    "assignment_data.keys()\n"
   ]
  },
  {
   "cell_type": "code",
   "execution_count": 15,
   "metadata": {},
   "outputs": [
    {
     "data": {
      "text/html": [
       "<div>\n",
       "<style scoped>\n",
       "    .dataframe tbody tr th:only-of-type {\n",
       "        vertical-align: middle;\n",
       "    }\n",
       "\n",
       "    .dataframe tbody tr th {\n",
       "        vertical-align: top;\n",
       "    }\n",
       "\n",
       "    .dataframe thead th {\n",
       "        text-align: right;\n",
       "    }\n",
       "</style>\n",
       "<table border=\"1\" class=\"dataframe\">\n",
       "  <thead>\n",
       "    <tr style=\"text-align: right;\">\n",
       "      <th></th>\n",
       "      <th>candidate_id</th>\n",
       "      <th>utility</th>\n",
       "    </tr>\n",
       "  </thead>\n",
       "  <tbody>\n",
       "    <tr>\n",
       "      <th>generation84</th>\n",
       "      <td>s9</td>\n",
       "      <td>3.616312</td>\n",
       "    </tr>\n",
       "    <tr>\n",
       "      <th>generation42</th>\n",
       "      <td>s16</td>\n",
       "      <td>3.454556</td>\n",
       "    </tr>\n",
       "    <tr>\n",
       "      <th>generation1</th>\n",
       "      <td>s9</td>\n",
       "      <td>3.941810</td>\n",
       "    </tr>\n",
       "    <tr>\n",
       "      <th>generation5</th>\n",
       "      <td>s9</td>\n",
       "      <td>3.985933</td>\n",
       "    </tr>\n",
       "    <tr>\n",
       "      <th>generation67</th>\n",
       "      <td>s9</td>\n",
       "      <td>3.975074</td>\n",
       "    </tr>\n",
       "    <tr>\n",
       "      <th>generation38</th>\n",
       "      <td>s9</td>\n",
       "      <td>3.844999</td>\n",
       "    </tr>\n",
       "    <tr>\n",
       "      <th>generation78</th>\n",
       "      <td>s16</td>\n",
       "      <td>3.803659</td>\n",
       "    </tr>\n",
       "    <tr>\n",
       "      <th>generation66</th>\n",
       "      <td>s9</td>\n",
       "      <td>3.976265</td>\n",
       "    </tr>\n",
       "    <tr>\n",
       "      <th>generation72</th>\n",
       "      <td>s1</td>\n",
       "      <td>4.000000</td>\n",
       "    </tr>\n",
       "    <tr>\n",
       "      <th>generation99</th>\n",
       "      <td>s9</td>\n",
       "      <td>3.490828</td>\n",
       "    </tr>\n",
       "    <tr>\n",
       "      <th>generation15</th>\n",
       "      <td>s1</td>\n",
       "      <td>4.000000</td>\n",
       "    </tr>\n",
       "    <tr>\n",
       "      <th>generation20</th>\n",
       "      <td>s9</td>\n",
       "      <td>3.553028</td>\n",
       "    </tr>\n",
       "    <tr>\n",
       "      <th>generation79</th>\n",
       "      <td>s9</td>\n",
       "      <td>3.992902</td>\n",
       "    </tr>\n",
       "    <tr>\n",
       "      <th>generation27</th>\n",
       "      <td>s9</td>\n",
       "      <td>3.956787</td>\n",
       "    </tr>\n",
       "    <tr>\n",
       "      <th>generation44</th>\n",
       "      <td>s1</td>\n",
       "      <td>4.000000</td>\n",
       "    </tr>\n",
       "    <tr>\n",
       "      <th>generation14</th>\n",
       "      <td>s16</td>\n",
       "      <td>3.815637</td>\n",
       "    </tr>\n",
       "    <tr>\n",
       "      <th>generation89</th>\n",
       "      <td>s9</td>\n",
       "      <td>3.286887</td>\n",
       "    </tr>\n",
       "    <tr>\n",
       "      <th>generation12</th>\n",
       "      <td>s9</td>\n",
       "      <td>3.956755</td>\n",
       "    </tr>\n",
       "    <tr>\n",
       "      <th>generation39</th>\n",
       "      <td>s9</td>\n",
       "      <td>3.898770</td>\n",
       "    </tr>\n",
       "    <tr>\n",
       "      <th>generation74</th>\n",
       "      <td>s1</td>\n",
       "      <td>4.000000</td>\n",
       "    </tr>\n",
       "  </tbody>\n",
       "</table>\n",
       "</div>"
      ],
      "text/plain": [
       "             candidate_id   utility\n",
       "generation84           s9  3.616312\n",
       "generation42          s16  3.454556\n",
       "generation1            s9  3.941810\n",
       "generation5            s9  3.985933\n",
       "generation67           s9  3.975074\n",
       "generation38           s9  3.844999\n",
       "generation78          s16  3.803659\n",
       "generation66           s9  3.976265\n",
       "generation72           s1  4.000000\n",
       "generation99           s9  3.490828\n",
       "generation15           s1  4.000000\n",
       "generation20           s9  3.553028\n",
       "generation79           s9  3.992902\n",
       "generation27           s9  3.956787\n",
       "generation44           s1  4.000000\n",
       "generation14          s16  3.815637\n",
       "generation89           s9  3.286887\n",
       "generation12           s9  3.956755\n",
       "generation39           s9  3.898770\n",
       "generation74           s1  4.000000"
      ]
     },
     "execution_count": 15,
     "metadata": {},
     "output_type": "execute_result"
    }
   ],
   "source": [
    "# Create DataFrame with assignments and utilities\n",
    "assignments = pd.DataFrame({\n",
    "    'candidate_id': assignment_data['assignments'],\n",
    "    'utility': assignment_data['utilities']\n",
    "}, index=assignment_data['agent_ids'])\n",
    "assignments\n"
   ]
  },
  {
   "cell_type": "markdown",
   "metadata": {},
   "source": [
    "# Plots"
   ]
  },
  {
   "cell_type": "markdown",
   "metadata": {},
   "source": [
    "## Trial-only plots\n"
   ]
  },
  {
   "cell_type": "code",
   "execution_count": 24,
   "metadata": {},
   "outputs": [
    {
     "ename": "ValueError",
     "evalue": "'yerr' (shape: (2,)) must be a scalar or a 1D or (2, n) array-like whose shape matches 'y' (shape: (1,))",
     "output_type": "error",
     "traceback": [
      "\u001b[1;31m---------------------------------------------------------------------------\u001b[0m",
      "\u001b[1;31mValueError\u001b[0m                                Traceback (most recent call last)",
      "Cell \u001b[1;32mIn[24], line 51\u001b[0m\n\u001b[0;32m     48\u001b[0m     plot\u001b[38;5;241m.\u001b[39mset(ylabel\u001b[38;5;241m=\u001b[39m\u001b[38;5;124m\"\u001b[39m\u001b[38;5;124mPercentage of Population (\u001b[39m\u001b[38;5;124m%\u001b[39m\u001b[38;5;124m)\u001b[39m\u001b[38;5;124m\"\u001b[39m)\n\u001b[0;32m     49\u001b[0m     \u001b[38;5;28;01mreturn\u001b[39;00m plot\n\u001b[1;32m---> 51\u001b[0m \u001b[43mplot_likert_category_bar_chart\u001b[49m\u001b[43m(\u001b[49m\u001b[43massignments\u001b[49m\u001b[43m)\u001b[49m\n",
      "Cell \u001b[1;32mIn[24], line 40\u001b[0m, in \u001b[0;36mplot_likert_category_bar_chart\u001b[1;34m(assignments)\u001b[0m\n\u001b[0;32m     33\u001b[0m plot_data \u001b[38;5;241m=\u001b[39m pd\u001b[38;5;241m.\u001b[39mDataFrame({\n\u001b[0;32m     34\u001b[0m     \u001b[38;5;124m\"\u001b[39m\u001b[38;5;124mlikert_score\u001b[39m\u001b[38;5;124m\"\u001b[39m: percentages\u001b[38;5;241m.\u001b[39mindex,\n\u001b[0;32m     35\u001b[0m     \u001b[38;5;124m\"\u001b[39m\u001b[38;5;124mpercentage\u001b[39m\u001b[38;5;124m\"\u001b[39m: percentages\u001b[38;5;241m.\u001b[39mvalues,\n\u001b[0;32m     36\u001b[0m     \u001b[38;5;124m\"\u001b[39m\u001b[38;5;124mstandard_error\u001b[39m\u001b[38;5;124m\"\u001b[39m: standard_errors\u001b[38;5;241m.\u001b[39mvalues\n\u001b[0;32m     37\u001b[0m })\u001b[38;5;241m.\u001b[39msort_values(\u001b[38;5;124m\"\u001b[39m\u001b[38;5;124mlikert_score\u001b[39m\u001b[38;5;124m\"\u001b[39m)\n\u001b[0;32m     39\u001b[0m \u001b[38;5;66;03m# Create bar plot with error bars\u001b[39;00m\n\u001b[1;32m---> 40\u001b[0m plot \u001b[38;5;241m=\u001b[39m \u001b[43msns\u001b[49m\u001b[38;5;241;43m.\u001b[39;49m\u001b[43mbarplot\u001b[49m\u001b[43m(\u001b[49m\n\u001b[0;32m     41\u001b[0m \u001b[43m    \u001b[49m\u001b[43mdata\u001b[49m\u001b[38;5;241;43m=\u001b[39;49m\u001b[43mplot_data\u001b[49m\u001b[43m,\u001b[49m\n\u001b[0;32m     42\u001b[0m \u001b[43m    \u001b[49m\u001b[43mx\u001b[49m\u001b[38;5;241;43m=\u001b[39;49m\u001b[38;5;124;43m\"\u001b[39;49m\u001b[38;5;124;43mlikert_score\u001b[39;49m\u001b[38;5;124;43m\"\u001b[39;49m\u001b[43m,\u001b[49m\n\u001b[0;32m     43\u001b[0m \u001b[43m    \u001b[49m\u001b[43my\u001b[49m\u001b[38;5;241;43m=\u001b[39;49m\u001b[38;5;124;43m\"\u001b[39;49m\u001b[38;5;124;43mpercentage\u001b[39;49m\u001b[38;5;124;43m\"\u001b[39;49m\u001b[43m,\u001b[49m\n\u001b[0;32m     44\u001b[0m \u001b[43m    \u001b[49m\u001b[43myerr\u001b[49m\u001b[38;5;241;43m=\u001b[39;49m\u001b[43mplot_data\u001b[49m\u001b[43m[\u001b[49m\u001b[38;5;124;43m\"\u001b[39;49m\u001b[38;5;124;43mstandard_error\u001b[39;49m\u001b[38;5;124;43m\"\u001b[39;49m\u001b[43m]\u001b[49m\u001b[43m,\u001b[49m\n\u001b[0;32m     45\u001b[0m \u001b[43m    \u001b[49m\u001b[43morder\u001b[49m\u001b[38;5;241;43m=\u001b[39;49m\u001b[38;5;28;43msorted\u001b[39;49m\u001b[43m(\u001b[49m\u001b[43massignments\u001b[49m\u001b[43m[\u001b[49m\u001b[38;5;124;43m\"\u001b[39;49m\u001b[38;5;124;43mlikert_score\u001b[39;49m\u001b[38;5;124;43m\"\u001b[39;49m\u001b[43m]\u001b[49m\u001b[38;5;241;43m.\u001b[39;49m\u001b[43munique\u001b[49m\u001b[43m(\u001b[49m\u001b[43m)\u001b[49m\u001b[43m,\u001b[49m\u001b[43m \u001b[49m\u001b[43mkey\u001b[49m\u001b[38;5;241;43m=\u001b[39;49m\u001b[38;5;28;43;01mlambda\u001b[39;49;00m\u001b[43m \u001b[49m\u001b[43mx\u001b[49m\u001b[43m:\u001b[49m\u001b[43m \u001b[49m\u001b[43mlikert_scores_reverse\u001b[49m\u001b[43m[\u001b[49m\u001b[43mx\u001b[49m\u001b[43m]\u001b[49m\u001b[43m)\u001b[49m\n\u001b[0;32m     46\u001b[0m \u001b[43m\u001b[49m\u001b[43m)\u001b[49m\n\u001b[0;32m     48\u001b[0m plot\u001b[38;5;241m.\u001b[39mset(ylabel\u001b[38;5;241m=\u001b[39m\u001b[38;5;124m\"\u001b[39m\u001b[38;5;124mPercentage of Population (\u001b[39m\u001b[38;5;124m%\u001b[39m\u001b[38;5;124m)\u001b[39m\u001b[38;5;124m\"\u001b[39m)\n\u001b[0;32m     49\u001b[0m \u001b[38;5;28;01mreturn\u001b[39;00m plot\n",
      "File \u001b[1;32mc:\\Users\\aaron\\AppData\\Local\\pypoetry\\Cache\\virtualenvs\\generative-social-choice-dKh-R6iu-py3.12\\Lib\\site-packages\\seaborn\\categorical.py:2371\u001b[0m, in \u001b[0;36mbarplot\u001b[1;34m(data, x, y, hue, order, hue_order, estimator, errorbar, n_boot, seed, units, weights, orient, color, palette, saturation, fill, hue_norm, width, dodge, gap, log_scale, native_scale, formatter, legend, capsize, err_kws, ci, errcolor, errwidth, ax, **kwargs)\u001b[0m\n\u001b[0;32m   2369\u001b[0m saturation \u001b[38;5;241m=\u001b[39m saturation \u001b[38;5;28;01mif\u001b[39;00m fill \u001b[38;5;28;01melse\u001b[39;00m \u001b[38;5;241m1\u001b[39m\n\u001b[0;32m   2370\u001b[0m p\u001b[38;5;241m.\u001b[39mmap_hue(palette\u001b[38;5;241m=\u001b[39mpalette, order\u001b[38;5;241m=\u001b[39mhue_order, norm\u001b[38;5;241m=\u001b[39mhue_norm, saturation\u001b[38;5;241m=\u001b[39msaturation)\n\u001b[1;32m-> 2371\u001b[0m color \u001b[38;5;241m=\u001b[39m \u001b[43m_default_color\u001b[49m\u001b[43m(\u001b[49m\u001b[43max\u001b[49m\u001b[38;5;241;43m.\u001b[39;49m\u001b[43mbar\u001b[49m\u001b[43m,\u001b[49m\u001b[43m \u001b[49m\u001b[43mhue\u001b[49m\u001b[43m,\u001b[49m\u001b[43m \u001b[49m\u001b[43mcolor\u001b[49m\u001b[43m,\u001b[49m\u001b[43m \u001b[49m\u001b[43mkwargs\u001b[49m\u001b[43m,\u001b[49m\u001b[43m \u001b[49m\u001b[43msaturation\u001b[49m\u001b[38;5;241;43m=\u001b[39;49m\u001b[43msaturation\u001b[49m\u001b[43m)\u001b[49m\n\u001b[0;32m   2373\u001b[0m agg_cls \u001b[38;5;241m=\u001b[39m WeightedAggregator \u001b[38;5;28;01mif\u001b[39;00m \u001b[38;5;124m\"\u001b[39m\u001b[38;5;124mweight\u001b[39m\u001b[38;5;124m\"\u001b[39m \u001b[38;5;129;01min\u001b[39;00m p\u001b[38;5;241m.\u001b[39mplot_data \u001b[38;5;28;01melse\u001b[39;00m EstimateAggregator\n\u001b[0;32m   2374\u001b[0m aggregator \u001b[38;5;241m=\u001b[39m agg_cls(estimator, errorbar, n_boot\u001b[38;5;241m=\u001b[39mn_boot, seed\u001b[38;5;241m=\u001b[39mseed)\n",
      "File \u001b[1;32mc:\\Users\\aaron\\AppData\\Local\\pypoetry\\Cache\\virtualenvs\\generative-social-choice-dKh-R6iu-py3.12\\Lib\\site-packages\\seaborn\\utils.py:127\u001b[0m, in \u001b[0;36m_default_color\u001b[1;34m(method, hue, color, kws, saturation)\u001b[0m\n\u001b[0;32m    122\u001b[0m     scout\u001b[38;5;241m.\u001b[39mremove()\n\u001b[0;32m    124\u001b[0m \u001b[38;5;28;01melif\u001b[39;00m method\u001b[38;5;241m.\u001b[39m\u001b[38;5;18m__name__\u001b[39m \u001b[38;5;241m==\u001b[39m \u001b[38;5;124m\"\u001b[39m\u001b[38;5;124mbar\u001b[39m\u001b[38;5;124m\"\u001b[39m:\n\u001b[0;32m    125\u001b[0m \n\u001b[0;32m    126\u001b[0m     \u001b[38;5;66;03m# bar() needs masked, not empty data, to generate a patch\u001b[39;00m\n\u001b[1;32m--> 127\u001b[0m     scout, \u001b[38;5;241m=\u001b[39m \u001b[43mmethod\u001b[49m\u001b[43m(\u001b[49m\u001b[43m[\u001b[49m\u001b[43mnp\u001b[49m\u001b[38;5;241;43m.\u001b[39;49m\u001b[43mnan\u001b[49m\u001b[43m]\u001b[49m\u001b[43m,\u001b[49m\u001b[43m \u001b[49m\u001b[43m[\u001b[49m\u001b[43mnp\u001b[49m\u001b[38;5;241;43m.\u001b[39;49m\u001b[43mnan\u001b[49m\u001b[43m]\u001b[49m\u001b[43m,\u001b[49m\u001b[43m \u001b[49m\u001b[38;5;241;43m*\u001b[39;49m\u001b[38;5;241;43m*\u001b[39;49m\u001b[43mkws\u001b[49m\u001b[43m)\u001b[49m\n\u001b[0;32m    128\u001b[0m     color \u001b[38;5;241m=\u001b[39m to_rgb(scout\u001b[38;5;241m.\u001b[39mget_facecolor())\n\u001b[0;32m    129\u001b[0m     scout\u001b[38;5;241m.\u001b[39mremove()\n",
      "File \u001b[1;32mc:\\Users\\aaron\\AppData\\Local\\pypoetry\\Cache\\virtualenvs\\generative-social-choice-dKh-R6iu-py3.12\\Lib\\site-packages\\matplotlib\\__init__.py:1521\u001b[0m, in \u001b[0;36m_preprocess_data.<locals>.inner\u001b[1;34m(ax, data, *args, **kwargs)\u001b[0m\n\u001b[0;32m   1518\u001b[0m \u001b[38;5;129m@functools\u001b[39m\u001b[38;5;241m.\u001b[39mwraps(func)\n\u001b[0;32m   1519\u001b[0m \u001b[38;5;28;01mdef\u001b[39;00m\u001b[38;5;250m \u001b[39m\u001b[38;5;21minner\u001b[39m(ax, \u001b[38;5;241m*\u001b[39margs, data\u001b[38;5;241m=\u001b[39m\u001b[38;5;28;01mNone\u001b[39;00m, \u001b[38;5;241m*\u001b[39m\u001b[38;5;241m*\u001b[39mkwargs):\n\u001b[0;32m   1520\u001b[0m     \u001b[38;5;28;01mif\u001b[39;00m data \u001b[38;5;129;01mis\u001b[39;00m \u001b[38;5;28;01mNone\u001b[39;00m:\n\u001b[1;32m-> 1521\u001b[0m         \u001b[38;5;28;01mreturn\u001b[39;00m \u001b[43mfunc\u001b[49m\u001b[43m(\u001b[49m\n\u001b[0;32m   1522\u001b[0m \u001b[43m            \u001b[49m\u001b[43max\u001b[49m\u001b[43m,\u001b[49m\n\u001b[0;32m   1523\u001b[0m \u001b[43m            \u001b[49m\u001b[38;5;241;43m*\u001b[39;49m\u001b[38;5;28;43mmap\u001b[39;49m\u001b[43m(\u001b[49m\u001b[43mcbook\u001b[49m\u001b[38;5;241;43m.\u001b[39;49m\u001b[43msanitize_sequence\u001b[49m\u001b[43m,\u001b[49m\u001b[43m \u001b[49m\u001b[43margs\u001b[49m\u001b[43m)\u001b[49m\u001b[43m,\u001b[49m\n\u001b[0;32m   1524\u001b[0m \u001b[43m            \u001b[49m\u001b[38;5;241;43m*\u001b[39;49m\u001b[38;5;241;43m*\u001b[39;49m\u001b[43m{\u001b[49m\u001b[43mk\u001b[49m\u001b[43m:\u001b[49m\u001b[43m \u001b[49m\u001b[43mcbook\u001b[49m\u001b[38;5;241;43m.\u001b[39;49m\u001b[43msanitize_sequence\u001b[49m\u001b[43m(\u001b[49m\u001b[43mv\u001b[49m\u001b[43m)\u001b[49m\u001b[43m \u001b[49m\u001b[38;5;28;43;01mfor\u001b[39;49;00m\u001b[43m \u001b[49m\u001b[43mk\u001b[49m\u001b[43m,\u001b[49m\u001b[43m \u001b[49m\u001b[43mv\u001b[49m\u001b[43m \u001b[49m\u001b[38;5;129;43;01min\u001b[39;49;00m\u001b[43m \u001b[49m\u001b[43mkwargs\u001b[49m\u001b[38;5;241;43m.\u001b[39;49m\u001b[43mitems\u001b[49m\u001b[43m(\u001b[49m\u001b[43m)\u001b[49m\u001b[43m}\u001b[49m\u001b[43m)\u001b[49m\n\u001b[0;32m   1526\u001b[0m     bound \u001b[38;5;241m=\u001b[39m new_sig\u001b[38;5;241m.\u001b[39mbind(ax, \u001b[38;5;241m*\u001b[39margs, \u001b[38;5;241m*\u001b[39m\u001b[38;5;241m*\u001b[39mkwargs)\n\u001b[0;32m   1527\u001b[0m     auto_label \u001b[38;5;241m=\u001b[39m (bound\u001b[38;5;241m.\u001b[39marguments\u001b[38;5;241m.\u001b[39mget(label_namer)\n\u001b[0;32m   1528\u001b[0m                   \u001b[38;5;129;01mor\u001b[39;00m bound\u001b[38;5;241m.\u001b[39mkwargs\u001b[38;5;241m.\u001b[39mget(label_namer))\n",
      "File \u001b[1;32mc:\\Users\\aaron\\AppData\\Local\\pypoetry\\Cache\\virtualenvs\\generative-social-choice-dKh-R6iu-py3.12\\Lib\\site-packages\\matplotlib\\axes\\_axes.py:2665\u001b[0m, in \u001b[0;36mAxes.bar\u001b[1;34m(self, x, height, width, bottom, align, **kwargs)\u001b[0m\n\u001b[0;32m   2661\u001b[0m         ey \u001b[38;5;241m=\u001b[39m [b \u001b[38;5;241m+\u001b[39m \u001b[38;5;241m0.5\u001b[39m \u001b[38;5;241m*\u001b[39m h \u001b[38;5;28;01mfor\u001b[39;00m b, h \u001b[38;5;129;01min\u001b[39;00m \u001b[38;5;28mzip\u001b[39m(bottom, height)]\n\u001b[0;32m   2663\u001b[0m     error_kw\u001b[38;5;241m.\u001b[39msetdefault(\u001b[38;5;124m\"\u001b[39m\u001b[38;5;124mlabel\u001b[39m\u001b[38;5;124m\"\u001b[39m, \u001b[38;5;124m'\u001b[39m\u001b[38;5;124m_nolegend_\u001b[39m\u001b[38;5;124m'\u001b[39m)\n\u001b[1;32m-> 2665\u001b[0m     errorbar \u001b[38;5;241m=\u001b[39m \u001b[38;5;28;43mself\u001b[39;49m\u001b[38;5;241;43m.\u001b[39;49m\u001b[43merrorbar\u001b[49m\u001b[43m(\u001b[49m\u001b[43mex\u001b[49m\u001b[43m,\u001b[49m\u001b[43m \u001b[49m\u001b[43mey\u001b[49m\u001b[43m,\u001b[49m\u001b[43m \u001b[49m\u001b[43myerr\u001b[49m\u001b[38;5;241;43m=\u001b[39;49m\u001b[43myerr\u001b[49m\u001b[43m,\u001b[49m\u001b[43m \u001b[49m\u001b[43mxerr\u001b[49m\u001b[38;5;241;43m=\u001b[39;49m\u001b[43mxerr\u001b[49m\u001b[43m,\u001b[49m\u001b[43m \u001b[49m\u001b[43mfmt\u001b[49m\u001b[38;5;241;43m=\u001b[39;49m\u001b[38;5;124;43m'\u001b[39;49m\u001b[38;5;124;43mnone\u001b[39;49m\u001b[38;5;124;43m'\u001b[39;49m\u001b[43m,\u001b[49m\n\u001b[0;32m   2666\u001b[0m \u001b[43m                             \u001b[49m\u001b[38;5;241;43m*\u001b[39;49m\u001b[38;5;241;43m*\u001b[39;49m\u001b[43merror_kw\u001b[49m\u001b[43m)\u001b[49m\n\u001b[0;32m   2667\u001b[0m \u001b[38;5;28;01melse\u001b[39;00m:\n\u001b[0;32m   2668\u001b[0m     errorbar \u001b[38;5;241m=\u001b[39m \u001b[38;5;28;01mNone\u001b[39;00m\n",
      "File \u001b[1;32mc:\\Users\\aaron\\AppData\\Local\\pypoetry\\Cache\\virtualenvs\\generative-social-choice-dKh-R6iu-py3.12\\Lib\\site-packages\\matplotlib\\_api\\deprecation.py:453\u001b[0m, in \u001b[0;36mmake_keyword_only.<locals>.wrapper\u001b[1;34m(*args, **kwargs)\u001b[0m\n\u001b[0;32m    447\u001b[0m \u001b[38;5;28;01mif\u001b[39;00m \u001b[38;5;28mlen\u001b[39m(args) \u001b[38;5;241m>\u001b[39m name_idx:\n\u001b[0;32m    448\u001b[0m     warn_deprecated(\n\u001b[0;32m    449\u001b[0m         since, message\u001b[38;5;241m=\u001b[39m\u001b[38;5;124m\"\u001b[39m\u001b[38;5;124mPassing the \u001b[39m\u001b[38;5;132;01m%(name)s\u001b[39;00m\u001b[38;5;124m \u001b[39m\u001b[38;5;132;01m%(obj_type)s\u001b[39;00m\u001b[38;5;124m \u001b[39m\u001b[38;5;124m\"\u001b[39m\n\u001b[0;32m    450\u001b[0m         \u001b[38;5;124m\"\u001b[39m\u001b[38;5;124mpositionally is deprecated since Matplotlib \u001b[39m\u001b[38;5;132;01m%(since)s\u001b[39;00m\u001b[38;5;124m; the \u001b[39m\u001b[38;5;124m\"\u001b[39m\n\u001b[0;32m    451\u001b[0m         \u001b[38;5;124m\"\u001b[39m\u001b[38;5;124mparameter will become keyword-only in \u001b[39m\u001b[38;5;132;01m%(removal)s\u001b[39;00m\u001b[38;5;124m.\u001b[39m\u001b[38;5;124m\"\u001b[39m,\n\u001b[0;32m    452\u001b[0m         name\u001b[38;5;241m=\u001b[39mname, obj_type\u001b[38;5;241m=\u001b[39m\u001b[38;5;124mf\u001b[39m\u001b[38;5;124m\"\u001b[39m\u001b[38;5;124mparameter of \u001b[39m\u001b[38;5;132;01m{\u001b[39;00mfunc\u001b[38;5;241m.\u001b[39m\u001b[38;5;18m__name__\u001b[39m\u001b[38;5;132;01m}\u001b[39;00m\u001b[38;5;124m()\u001b[39m\u001b[38;5;124m\"\u001b[39m)\n\u001b[1;32m--> 453\u001b[0m \u001b[38;5;28;01mreturn\u001b[39;00m \u001b[43mfunc\u001b[49m\u001b[43m(\u001b[49m\u001b[38;5;241;43m*\u001b[39;49m\u001b[43margs\u001b[49m\u001b[43m,\u001b[49m\u001b[43m \u001b[49m\u001b[38;5;241;43m*\u001b[39;49m\u001b[38;5;241;43m*\u001b[39;49m\u001b[43mkwargs\u001b[49m\u001b[43m)\u001b[49m\n",
      "File \u001b[1;32mc:\\Users\\aaron\\AppData\\Local\\pypoetry\\Cache\\virtualenvs\\generative-social-choice-dKh-R6iu-py3.12\\Lib\\site-packages\\matplotlib\\__init__.py:1521\u001b[0m, in \u001b[0;36m_preprocess_data.<locals>.inner\u001b[1;34m(ax, data, *args, **kwargs)\u001b[0m\n\u001b[0;32m   1518\u001b[0m \u001b[38;5;129m@functools\u001b[39m\u001b[38;5;241m.\u001b[39mwraps(func)\n\u001b[0;32m   1519\u001b[0m \u001b[38;5;28;01mdef\u001b[39;00m\u001b[38;5;250m \u001b[39m\u001b[38;5;21minner\u001b[39m(ax, \u001b[38;5;241m*\u001b[39margs, data\u001b[38;5;241m=\u001b[39m\u001b[38;5;28;01mNone\u001b[39;00m, \u001b[38;5;241m*\u001b[39m\u001b[38;5;241m*\u001b[39mkwargs):\n\u001b[0;32m   1520\u001b[0m     \u001b[38;5;28;01mif\u001b[39;00m data \u001b[38;5;129;01mis\u001b[39;00m \u001b[38;5;28;01mNone\u001b[39;00m:\n\u001b[1;32m-> 1521\u001b[0m         \u001b[38;5;28;01mreturn\u001b[39;00m \u001b[43mfunc\u001b[49m\u001b[43m(\u001b[49m\n\u001b[0;32m   1522\u001b[0m \u001b[43m            \u001b[49m\u001b[43max\u001b[49m\u001b[43m,\u001b[49m\n\u001b[0;32m   1523\u001b[0m \u001b[43m            \u001b[49m\u001b[38;5;241;43m*\u001b[39;49m\u001b[38;5;28;43mmap\u001b[39;49m\u001b[43m(\u001b[49m\u001b[43mcbook\u001b[49m\u001b[38;5;241;43m.\u001b[39;49m\u001b[43msanitize_sequence\u001b[49m\u001b[43m,\u001b[49m\u001b[43m \u001b[49m\u001b[43margs\u001b[49m\u001b[43m)\u001b[49m\u001b[43m,\u001b[49m\n\u001b[0;32m   1524\u001b[0m \u001b[43m            \u001b[49m\u001b[38;5;241;43m*\u001b[39;49m\u001b[38;5;241;43m*\u001b[39;49m\u001b[43m{\u001b[49m\u001b[43mk\u001b[49m\u001b[43m:\u001b[49m\u001b[43m \u001b[49m\u001b[43mcbook\u001b[49m\u001b[38;5;241;43m.\u001b[39;49m\u001b[43msanitize_sequence\u001b[49m\u001b[43m(\u001b[49m\u001b[43mv\u001b[49m\u001b[43m)\u001b[49m\u001b[43m \u001b[49m\u001b[38;5;28;43;01mfor\u001b[39;49;00m\u001b[43m \u001b[49m\u001b[43mk\u001b[49m\u001b[43m,\u001b[49m\u001b[43m \u001b[49m\u001b[43mv\u001b[49m\u001b[43m \u001b[49m\u001b[38;5;129;43;01min\u001b[39;49;00m\u001b[43m \u001b[49m\u001b[43mkwargs\u001b[49m\u001b[38;5;241;43m.\u001b[39;49m\u001b[43mitems\u001b[49m\u001b[43m(\u001b[49m\u001b[43m)\u001b[49m\u001b[43m}\u001b[49m\u001b[43m)\u001b[49m\n\u001b[0;32m   1526\u001b[0m     bound \u001b[38;5;241m=\u001b[39m new_sig\u001b[38;5;241m.\u001b[39mbind(ax, \u001b[38;5;241m*\u001b[39margs, \u001b[38;5;241m*\u001b[39m\u001b[38;5;241m*\u001b[39mkwargs)\n\u001b[0;32m   1527\u001b[0m     auto_label \u001b[38;5;241m=\u001b[39m (bound\u001b[38;5;241m.\u001b[39marguments\u001b[38;5;241m.\u001b[39mget(label_namer)\n\u001b[0;32m   1528\u001b[0m                   \u001b[38;5;129;01mor\u001b[39;00m bound\u001b[38;5;241m.\u001b[39mkwargs\u001b[38;5;241m.\u001b[39mget(label_namer))\n",
      "File \u001b[1;32mc:\\Users\\aaron\\AppData\\Local\\pypoetry\\Cache\\virtualenvs\\generative-social-choice-dKh-R6iu-py3.12\\Lib\\site-packages\\matplotlib\\axes\\_axes.py:3785\u001b[0m, in \u001b[0;36mAxes.errorbar\u001b[1;34m(self, x, y, yerr, xerr, fmt, ecolor, elinewidth, capsize, barsabove, lolims, uplims, xlolims, xuplims, errorevery, capthick, **kwargs)\u001b[0m\n\u001b[0;32m   3783\u001b[0m     np\u001b[38;5;241m.\u001b[39mbroadcast_to(err, (\u001b[38;5;241m2\u001b[39m, \u001b[38;5;28mlen\u001b[39m(dep)))\n\u001b[0;32m   3784\u001b[0m \u001b[38;5;28;01mexcept\u001b[39;00m \u001b[38;5;167;01mValueError\u001b[39;00m:\n\u001b[1;32m-> 3785\u001b[0m     \u001b[38;5;28;01mraise\u001b[39;00m \u001b[38;5;167;01mValueError\u001b[39;00m(\n\u001b[0;32m   3786\u001b[0m         \u001b[38;5;124mf\u001b[39m\u001b[38;5;124m\"\u001b[39m\u001b[38;5;124m'\u001b[39m\u001b[38;5;132;01m{\u001b[39;00mdep_axis\u001b[38;5;132;01m}\u001b[39;00m\u001b[38;5;124merr\u001b[39m\u001b[38;5;124m'\u001b[39m\u001b[38;5;124m (shape: \u001b[39m\u001b[38;5;132;01m{\u001b[39;00mnp\u001b[38;5;241m.\u001b[39mshape(err)\u001b[38;5;132;01m}\u001b[39;00m\u001b[38;5;124m) must be a \u001b[39m\u001b[38;5;124m\"\u001b[39m\n\u001b[0;32m   3787\u001b[0m         \u001b[38;5;124mf\u001b[39m\u001b[38;5;124m\"\u001b[39m\u001b[38;5;124mscalar or a 1D or (2, n) array-like whose shape matches \u001b[39m\u001b[38;5;124m\"\u001b[39m\n\u001b[0;32m   3788\u001b[0m         \u001b[38;5;124mf\u001b[39m\u001b[38;5;124m\"\u001b[39m\u001b[38;5;124m'\u001b[39m\u001b[38;5;132;01m{\u001b[39;00mdep_axis\u001b[38;5;132;01m}\u001b[39;00m\u001b[38;5;124m'\u001b[39m\u001b[38;5;124m (shape: \u001b[39m\u001b[38;5;132;01m{\u001b[39;00mnp\u001b[38;5;241m.\u001b[39mshape(dep)\u001b[38;5;132;01m}\u001b[39;00m\u001b[38;5;124m)\u001b[39m\u001b[38;5;124m\"\u001b[39m) \u001b[38;5;28;01mfrom\u001b[39;00m\u001b[38;5;250m \u001b[39m\u001b[38;5;28;01mNone\u001b[39;00m\n\u001b[0;32m   3789\u001b[0m \u001b[38;5;28;01mif\u001b[39;00m err\u001b[38;5;241m.\u001b[39mdtype \u001b[38;5;129;01mis\u001b[39;00m np\u001b[38;5;241m.\u001b[39mdtype(\u001b[38;5;28mobject\u001b[39m) \u001b[38;5;129;01mand\u001b[39;00m np\u001b[38;5;241m.\u001b[39many(err \u001b[38;5;241m==\u001b[39m \u001b[38;5;28;01mNone\u001b[39;00m):  \u001b[38;5;66;03m# noqa: E711\u001b[39;00m\n\u001b[0;32m   3790\u001b[0m     \u001b[38;5;28;01mraise\u001b[39;00m \u001b[38;5;167;01mValueError\u001b[39;00m(\n\u001b[0;32m   3791\u001b[0m         \u001b[38;5;124mf\u001b[39m\u001b[38;5;124m\"\u001b[39m\u001b[38;5;124m'\u001b[39m\u001b[38;5;132;01m{\u001b[39;00mdep_axis\u001b[38;5;132;01m}\u001b[39;00m\u001b[38;5;124merr\u001b[39m\u001b[38;5;124m'\u001b[39m\u001b[38;5;124m must not contain None. \u001b[39m\u001b[38;5;124m\"\u001b[39m\n\u001b[0;32m   3792\u001b[0m         \u001b[38;5;124m\"\u001b[39m\u001b[38;5;124mUse NaN if you want to skip a value.\u001b[39m\u001b[38;5;124m\"\u001b[39m)\n",
      "\u001b[1;31mValueError\u001b[0m: 'yerr' (shape: (2,)) must be a scalar or a 1D or (2, n) array-like whose shape matches 'y' (shape: (1,))"
     ]
    },
    {
     "data": {
      "image/png": "[encoded data removed]",
      "text/plain": [
       "<Figure size 640x480 with 1 Axes>"
      ]
     },
     "metadata": {},
     "output_type": "display_data"
    }
   ],
   "source": [
    "def plot_likert_category_bar_chart(assignments: pd.DataFrame) -> plt.figure:\n",
    "    \"\"\"\n",
    "    Bar chart of the distribution of likert scores with error bars.\n",
    "\n",
    "    Utilities are rounded to the nearest integer and mapped to the likert scale.\n",
    "    Bars are sequenced from lowest to highest likert score.\n",
    "    The y axis is the percentage of the sample that received each score.\n",
    "    Error bars represent the standard error of the proportion.\n",
    "    \"\"\"\n",
    "    # Round utilities and map to likert scores\n",
    "    assignments[\"utility\"] = assignments[\"utility\"].round().astype(int)\n",
    "    assignments[\"likert_score\"] = assignments[\"utility\"].map(likert_scores)\n",
    "    \n",
    "    # Calculate counts\n",
    "    total = len(assignments)\n",
    "    counts = assignments[\"likert_score\"].value_counts().sort_index()\n",
    "    \n",
    "    # Calculate confidence intervals\n",
    "    def calculate_proportion_confidence_intervals(counts: np.ndarray, total: int) -> np.ndarray:\n",
    "        proportions = counts / total\n",
    "        nqp = counts * proportions\n",
    "        standard_errors = np.sqrt(proportions * (1 - proportions) / total)\n",
    "        \n",
    "        # Initialize bounds with normal approximation\n",
    "        lower_bounds = np.maximum(0, proportions - standard_errors)\n",
    "        upper_bounds = np.minimum(1, proportions + standard_errors)\n",
    "        \n",
    "        # Identify indices where exact calculation is needed\n",
    "        exact_indices = nqp < 5\n",
    "        \n",
    "        # Exact binomial calculation for nqp < 5\n",
    "        if np.any(exact_indices):\n",
    "            exact_lower = scipy.stats.binom.ppf(0.025, total, proportions[exact_indices]) / total\n",
    "            exact_upper = scipy.stats.binom.ppf(0.975, total, proportions[exact_indices]) / total\n",
    "            lower_bounds[exact_indices] = exact_lower\n",
    "            upper_bounds[exact_indices] = exact_upper\n",
    "        \n",
    "        return np.vstack((lower_bounds, proportions, upper_bounds)).T\n",
    "\n",
    "    confidence_intervals = calculate_proportion_confidence_intervals(counts.values, total)\n",
    "    \n",
    "    # Create DataFrame for plotting\n",
    "    plot_data = pd.DataFrame({\n",
    "        \"likert_score\": counts.index,\n",
    "        \"proportion\": confidence_intervals[:, 1],\n",
    "        \"lower_bound\": confidence_intervals[:, 0],\n",
    "        \"upper_bound\": confidence_intervals[:, 2]\n",
    "    }).sort_values(\"likert_score\")\n",
    "    \n",
    "    # Convert proportions to percentages for plotting\n",
    "    plot_data[\"percentage\"] = plot_data[\"proportion\"] * 100\n",
    "    plot_data[\"lower_bound_percentage\"] = plot_data[\"lower_bound\"] * 100\n",
    "    plot_data[\"upper_bound_percentage\"] = plot_data[\"upper_bound\"] * 100\n",
    "    \n",
    "    # Create bar plot with error bars\n",
    "    plot = sns.barplot(\n",
    "        data=plot_data,\n",
    "        x=\"likert_score\",\n",
    "        y=\"percentage\",\n",
    "        yerr=[plot_data[\"percentage\"] - plot_data[\"lower_bound_percentage\"], \n",
    "              plot_data[\"upper_bound_percentage\"] - plot_data[\"percentage\"]],\n",
    "        order=sorted(assignments[\"likert_score\"].unique(), key=lambda x: likert_scores_reverse[x])\n",
    "    )\n",
    "    \n",
    "    plot.set(ylabel=\"Percentage of Population (%)\")\n",
    "    return plot\n",
    "\n",
    "plot_likert_category_bar_chart(assignments)"
   ]
  },
  {
   "cell_type": "markdown",
   "metadata": {},
   "source": [
    "## Trial vs Baseline Plots"
   ]
  }
 ],
 "metadata": {
  "kernelspec": {
   "display_name": "generative-social-choice-dKh-R6iu-py3.12",
   "language": "python",
   "name": "python3"
  },
  "language_info": {
   "codemirror_mode": {
    "name": "ipython",
    "version": 3
   },
   "file_extension": ".py",
   "mimetype": "text/x-python",
   "name": "python",
   "nbconvert_exporter": "python",
   "pygments_lexer": "ipython3",
   "version": "3.12.7"
  }
 },
 "nbformat": 4,
 "nbformat_minor": 2
}
