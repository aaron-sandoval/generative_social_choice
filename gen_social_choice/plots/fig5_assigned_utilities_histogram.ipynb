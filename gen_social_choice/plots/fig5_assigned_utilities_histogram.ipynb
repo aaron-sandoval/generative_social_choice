{
 "cells": [
  {
   "cell_type": "code",
   "execution_count": null,
   "metadata": {},
   "outputs": [],
   "source": [
    "%load_ext autoreload\n",
    "%autoreload 2"
   ]
  },
  {
   "cell_type": "code",
   "execution_count": null,
   "metadata": {},
   "outputs": [],
   "source": [
    "import pandas as pd\n",
    "import numpy as np\n",
    "import matplotlib.pyplot as plt\n",
    "\n",
    "from matplotlib.colors import LinearSegmentedColormap\n",
    "\n",
    "from chatbot_personalization.utils.helper_functions import get_base_dir_path"
   ]
  },
  {
   "cell_type": "markdown",
   "metadata": {},
   "source": [
    "# Generate Figure 5"
   ]
  },
  {
   "cell_type": "markdown",
   "metadata": {},
   "source": [
    "## Load data"
   ]
  },
  {
   "cell_type": "code",
   "execution_count": null,
   "metadata": {},
   "outputs": [],
   "source": [
    "path = get_base_dir_path() / \"data/ratings_and_matching.csv\"\n",
    "\n",
    "df = pd.read_csv(path)\n",
    "df = pd.read_csv(path)\n",
    "df = df.drop(columns=[\"utility\", \"user_id\"])\n",
    "df = df.set_index(\"assignments\")\n",
    "\n",
    "statements = df.columns\n",
    "\n",
    "k = len(statements)"
   ]
  },
  {
   "cell_type": "code",
   "execution_count": null,
   "metadata": {},
   "outputs": [],
   "source": [
    "group_to_label = {statements[i]: \"G\" + str(i + 1) for i in range(k)}\n",
    "statement_to_label = {statements[i]: \"S\" + str(i + 1) for i in range(k)}\n",
    "label_to_statement = {v: k for k, v in statement_to_label.items()}\n",
    "df.rename(index=group_to_label, columns=statement_to_label, inplace=True)\n",
    "df = df.sort_index(axis=\"columns\")\n",
    "df = df.sort_index(axis=\"index\")\n",
    "\n",
    "\n",
    "assignment_table = df.copy().astype(bool)\n",
    "assignment_table[:] = False\n",
    "for col in df.columns:\n",
    "    assignment_table.loc[\"G\" + col[1:], col] = True\n",
    "\n",
    "levels = df.stack().astype(int)\n",
    "matched_levels = df[assignment_table].stack().astype(int)\n",
    "\n",
    "level_names = pd.Series(\n",
    "    index=[\"not at all\", \"poorly\", \"somewhat\", \"mostly\", \"perfectly\"],\n",
    "    data=[0, 1, 2, 3, 4],\n",
    ")\n",
    "\n",
    "matched_level_frequencies = matched_levels.value_counts(normalize=True)\n",
    "matched_level_frequencies = level_names.map(matched_level_frequencies).fillna(0)\n",
    "\n",
    "level_frequencies = levels.value_counts(normalize=True)\n",
    "level_frequencies = level_names.map(level_frequencies).fillna(0)\n",
    "\n",
    "unique_indices = df.index.unique()"
   ]
  },
  {
   "cell_type": "markdown",
   "metadata": {},
   "source": [
    "## Generate Figure 5"
   ]
  },
  {
   "cell_type": "code",
   "execution_count": null,
   "metadata": {},
   "outputs": [],
   "source": [
    "color_map = LinearSegmentedColormap.from_list(\"\", [\"#8BA9EB\", \"#061B5F\"])\n",
    "base_color = \"#3753A5\"  # used for main paper\n",
    "\n",
    "fig, axes = plt.subplots(len(unique_indices), 1, figsize=(10, 1 * len(unique_indices)))\n",
    "\n",
    "\n",
    "for ax, unique_index in zip(axes, unique_indices):\n",
    "    subframe = df.loc[unique_index]\n",
    "\n",
    "    k = len(subframe.columns)\n",
    "    colors = color_map(np.linspace(0, 1, k))\n",
    "    ax.text(\n",
    "        -0.1,\n",
    "        0.5,\n",
    "        str(unique_index),\n",
    "        horizontalalignment=\"center\",\n",
    "        verticalalignment=\"center\",\n",
    "        transform=ax.transAxes,\n",
    "        fontsize=15,\n",
    "    )\n",
    "\n",
    "    xticks = []\n",
    "\n",
    "    for col_index, col_name in enumerate(subframe.columns):\n",
    "        unique_values = subframe[col_name].unique()\n",
    "        total_count = len(subframe[col_name])\n",
    "\n",
    "        for unique_value in unique_values:\n",
    "            frequency = (subframe[col_name] == unique_value).sum()\n",
    "            normalized_frequency = frequency / total_count\n",
    "            color = colors[unique_value]\n",
    "\n",
    "            ax.barh(\n",
    "                unique_value,\n",
    "                width=normalized_frequency,\n",
    "                left=col_index - 0.5 * normalized_frequency,\n",
    "                height=1,\n",
    "                align=\"center\",\n",
    "                color=color,\n",
    "                alpha=1.0,\n",
    "            )\n",
    "\n",
    "    ax.set_xlim(-0.5, len(subframe.columns) - 0.5)\n",
    "    ax.set_yticks(range(len(subframe.columns)))\n",
    "    ax.set_yticklabels(\n",
    "        [\"not at all\", \"poorly\", \"somewhat\", \"mostly\", \"perfectly\"],\n",
    "        rotation=0,\n",
    "        fontsize=6,\n",
    "    )\n",
    "\n",
    "    if unique_index == unique_indices[-1]:\n",
    "        ax.tick_params(\n",
    "            axis=\"both\",\n",
    "            which=\"both\",\n",
    "            bottom=True,\n",
    "            top=False,\n",
    "            left=True,\n",
    "            right=False,\n",
    "            labelbottom=True,\n",
    "            labelleft=True,\n",
    "        )\n",
    "\n",
    "        ax.set_xticks(range(len(subframe.columns)))\n",
    "        ax.set_xticklabels(subframe.columns, rotation=0, fontsize=15)\n",
    "    else:\n",
    "        ax.tick_params(\n",
    "            axis=\"both\",\n",
    "            which=\"both\",\n",
    "            bottom=False,\n",
    "            top=True,\n",
    "            left=True,\n",
    "            right=False,\n",
    "            labelbottom=False,\n",
    "            labelleft=True,\n",
    "        )\n",
    "\n",
    "plt.subplots_adjust(hspace=0.1)\n",
    "plt.show()\n",
    "plt.savefig(\"fig5_assigned_utilities_histogram.pdf\", bbox_inches=\"tight\", pad_inches=0)"
   ]
  },
  {
   "cell_type": "code",
   "execution_count": null,
   "metadata": {},
   "outputs": [],
   "source": []
  }
 ],
 "metadata": {
  "kernelspec": {
   "display_name": ".venv",
   "language": "python",
   "name": "python3"
  },
  "language_info": {
   "codemirror_mode": {
    "name": "ipython",
    "version": 3
   },
   "file_extension": ".py",
   "mimetype": "text/x-python",
   "name": "python",
   "nbconvert_exporter": "python",
   "pygments_lexer": "ipython3",
   "version": "3.12.3"
  }
 },
 "nbformat": 4,
 "nbformat_minor": 2
}
