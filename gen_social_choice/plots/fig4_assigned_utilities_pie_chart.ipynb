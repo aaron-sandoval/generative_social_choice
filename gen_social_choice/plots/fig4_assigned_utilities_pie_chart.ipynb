{
 "cells": [
  {
   "cell_type": "code",
   "execution_count": null,
   "metadata": {},
   "outputs": [],
   "source": [
    "%load_ext autoreload\n",
    "%autoreload 2"
   ]
  },
  {
   "cell_type": "code",
   "execution_count": null,
   "metadata": {},
   "outputs": [],
   "source": [
    "import pandas as pd\n",
    "import numpy as np\n",
    "import matplotlib.pyplot as plt\n",
    "\n",
    "from matplotlib.colors import LinearSegmentedColormap\n",
    "\n",
    "from chatbot_personalization.utils.helper_functions import get_base_dir_path"
   ]
  },
  {
   "cell_type": "markdown",
   "metadata": {},
   "source": [
    "# Generate Figure 4"
   ]
  },
  {
   "cell_type": "markdown",
   "metadata": {},
   "source": [
    "## Load data"
   ]
  },
  {
   "cell_type": "code",
   "execution_count": null,
   "metadata": {},
   "outputs": [],
   "source": [
    "path = get_base_dir_path() / \"data/ratings_and_matching.csv\"\n",
    "\n",
    "df = pd.read_csv(path)\n",
    "df = pd.read_csv(path)\n",
    "df = df.drop(columns=[\"utility\", \"user_id\"])\n",
    "df = df.set_index(\"assignments\")\n",
    "\n",
    "statements = df.columns\n",
    "\n",
    "k = len(statements)"
   ]
  },
  {
   "cell_type": "code",
   "execution_count": null,
   "metadata": {},
   "outputs": [],
   "source": [
    "group_to_label = {statements[i]: \"G\" + str(i + 1) for i in range(k)}\n",
    "statement_to_label = {statements[i]: \"S\" + str(i + 1) for i in range(k)}\n",
    "label_to_statement = {v: k for k, v in statement_to_label.items()}\n",
    "df.rename(index=group_to_label, columns=statement_to_label, inplace=True)\n",
    "df = df.sort_index(axis=\"columns\")\n",
    "df = df.sort_index(axis=\"index\")\n",
    "\n",
    "\n",
    "assignment_table = df.copy().astype(bool)\n",
    "assignment_table[:] = False\n",
    "for col in df.columns:\n",
    "    assignment_table.loc[\"G\" + col[1:], col] = True\n",
    "\n",
    "levels = df.stack().astype(int)\n",
    "matched_levels = df[assignment_table].stack().astype(int)\n",
    "\n",
    "level_names = pd.Series(\n",
    "    index=[\"not at all\", \"poorly\", \"somewhat\", \"mostly\", \"perfectly\"],\n",
    "    data=[0, 1, 2, 3, 4],\n",
    ")\n",
    "\n",
    "matched_level_frequencies = matched_levels.value_counts(normalize=True)\n",
    "matched_level_frequencies = level_names.map(matched_level_frequencies).fillna(0)\n",
    "\n",
    "level_frequencies = levels.value_counts(normalize=True)\n",
    "level_frequencies = level_names.map(level_frequencies).fillna(0)"
   ]
  },
  {
   "cell_type": "markdown",
   "metadata": {},
   "source": [
    "## Plotting code"
   ]
  },
  {
   "cell_type": "code",
   "execution_count": null,
   "metadata": {},
   "outputs": [],
   "source": [
    "def make_pie_plot(pie_df, title):\n",
    "    pie_df = pie_df.reset_index().copy()\n",
    "    pie_df[\"legend_label\"] = pie_df.apply(\n",
    "        lambda row: f\"{row['level']} ({100*row['frequency']:.0f}%)\", axis=1\n",
    "    )\n",
    "    nonzero_pie_df = pie_df[pie_df[\"frequency\"] > 0]\n",
    "    filtered_frequencies = nonzero_pie_df[\"frequency\"]\n",
    "    labels = nonzero_pie_df[\"level\"].values\n",
    "    colors = nonzero_pie_df[\"color\"].values\n",
    "\n",
    "    if \"annotated_pie_chart\" in title:\n",
    "        print(colors)\n",
    "\n",
    "    fig, ax = plt.subplots(figsize=(12, 5), subplot_kw=dict(aspect=\"equal\"))\n",
    "    wedges, _ = ax.pie(\n",
    "        filtered_frequencies, colors=colors, wedgeprops=dict(width=0.5), startangle=-40\n",
    "    )\n",
    "\n",
    "    kw = dict(arrowprops=dict(arrowstyle=\"-\"), zorder=0, va=\"center\")\n",
    "\n",
    "    for i, p in enumerate(wedges):\n",
    "        ang = (p.theta2 - p.theta1) / 2.0 + p.theta1\n",
    "        y = np.sin(np.deg2rad(ang))\n",
    "        x = np.cos(np.deg2rad(ang))\n",
    "        horizontalalignment = {-1: \"right\", 1: \"left\"}[int(np.sign(x))]\n",
    "        connectionstyle = f\"angle,angleA=0,angleB={ang}\"\n",
    "        kw[\"arrowprops\"].update({\"connectionstyle\": connectionstyle})\n",
    "        ax.annotate(\n",
    "            labels[i],\n",
    "            xy=(x, y),\n",
    "            xytext=(1.4 * np.sign(x), 1.4 * y),\n",
    "            horizontalalignment=horizontalalignment,\n",
    "            fontsize=17,\n",
    "            **kw,\n",
    "        )\n",
    "\n",
    "    from matplotlib.patches import Patch\n",
    "\n",
    "    legend_handles = [\n",
    "        Patch(facecolor=row[\"color\"], label=row[\"legend_label\"])\n",
    "        for _, row in pie_df.iterrows()\n",
    "    ]\n",
    "    plt.legend(\n",
    "        handles=legend_handles,\n",
    "        loc=\"lower center\",\n",
    "        bbox_to_anchor=(0.5, -0.3),\n",
    "        title=title,\n",
    "        ncol=6,\n",
    "        fontsize=12,\n",
    "        title_fontsize=15,\n",
    "    )"
   ]
  },
  {
   "cell_type": "markdown",
   "metadata": {},
   "source": [
    "## Generate Figure 4"
   ]
  },
  {
   "cell_type": "code",
   "execution_count": null,
   "metadata": {},
   "outputs": [],
   "source": [
    "color_map = LinearSegmentedColormap.from_list(\"\", [\"#8BA9EB\", \"#061B5F\"])\n",
    "base_color = \"#3753A5\"  # used for main paper\n",
    "\n",
    "pie_df = pd.DataFrame(level_frequencies, columns=[\"frequency\"])\n",
    "pie_df.index.name = \"level\"\n",
    "pie_df[\"value\"] = pie_df.index.map(level_names)\n",
    "pie_df[\"color\"] = pie_df[\"value\"].map(lambda v: color_map(v / pie_df[\"value\"].max()))"
   ]
  },
  {
   "cell_type": "code",
   "execution_count": null,
   "metadata": {},
   "outputs": [],
   "source": [
    "frequency = pd.DataFrame(matched_level_frequencies, columns=[\"frequency\"])\n",
    "pie_df[\"frequency\"] = frequency\n",
    "pie_df[\"color\"] = [\"#3753A5\", \"#5C71C8\", \"#A3B2FF\", \"#F1F1E6\", \"#C8D5FF\"][::-1]\n",
    "make_pie_plot(pie_df, title=\"How well does your assigned statement represent you?\")\n",
    "plt.savefig(\"fig4_assigned_utilities_pie_chart.pdf\", bbox_inches=\"tight\")\n",
    "plt.show()"
   ]
  },
  {
   "cell_type": "code",
   "execution_count": null,
   "metadata": {},
   "outputs": [],
   "source": []
  }
 ],
 "metadata": {
  "kernelspec": {
   "display_name": ".venv",
   "language": "python",
   "name": "python3"
  },
  "language_info": {
   "codemirror_mode": {
    "name": "ipython",
    "version": 3
   },
   "file_extension": ".py",
   "mimetype": "text/x-python",
   "name": "python",
   "nbconvert_exporter": "python",
   "pygments_lexer": "ipython3",
   "version": "3.12.3"
  }
 },
 "nbformat": 4,
 "nbformat_minor": 2
}
